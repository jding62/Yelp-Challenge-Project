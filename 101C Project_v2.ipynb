{
 "cells": [
  {
   "cell_type": "code",
   "execution_count": 2,
   "id": "510e607c",
   "metadata": {},
   "outputs": [],
   "source": [
    "import pandas as pd\n",
    "import numpy as np\n",
    "from sklearn.decomposition import NMF \n",
    "from sklearn.feature_extraction.text import TfidfVectorizer\n",
    "from sklearn.preprocessing import normalize\n",
    "from numpy.linalg import inv\n",
    "import matplotlib.pyplot as plt\n",
    "import scipy.integrate \n",
    "import scipy.special\n",
    "from sklearn import preprocessing"
   ]
  },
  {
   "cell_type": "code",
   "execution_count": 3,
   "id": "8b4af645",
   "metadata": {},
   "outputs": [],
   "source": [
    "import numpy as np\n",
    "import pandas as pd\n",
    "from sklearn import tree, preprocessing\n",
    "from sklearn.model_selection import train_test_split\n",
    "from sklearn.model_selection import cross_val_score\n",
    "from sklearn.ensemble import RandomForestClassifier\n",
    "from sklearn.model_selection import cross_val_score\n",
    "from sklearn.tree import DecisionTreeClassifier\n",
    "import matplotlib.pyplot as plt"
   ]
  },
  {
   "cell_type": "code",
   "execution_count": 4,
   "id": "70f8bbd2",
   "metadata": {},
   "outputs": [],
   "source": [
    "from sklearn.linear_model import Lasso, LogisticRegression\n",
    "from sklearn.feature_selection import SelectFromModel\n",
    "import seaborn as sns"
   ]
  },
  {
   "cell_type": "markdown",
   "id": "4c2b3471",
   "metadata": {},
   "source": [
    "# Import Data"
   ]
  },
  {
   "cell_type": "code",
   "execution_count": 5,
   "id": "5bb854ab",
   "metadata": {},
   "outputs": [],
   "source": [
    "df = pd.read_csv(\"Data_Final\")"
   ]
  },
  {
   "cell_type": "code",
   "execution_count": 6,
   "id": "d0aa8195",
   "metadata": {},
   "outputs": [],
   "source": [
    "df.to_csv ('Yahoo_Data.csv', index=None)"
   ]
  },
  {
   "cell_type": "code",
   "execution_count": 7,
   "id": "983cbeeb",
   "metadata": {},
   "outputs": [],
   "source": [
    "positive = pd.read_csv('positive-words.txt',header = None)"
   ]
  },
  {
   "cell_type": "code",
   "execution_count": 8,
   "id": "a442922c",
   "metadata": {},
   "outputs": [],
   "source": [
    "negative = pd.read_csv('negative-words.txt',header = None)"
   ]
  },
  {
   "cell_type": "code",
   "execution_count": 9,
   "id": "68291d32",
   "metadata": {},
   "outputs": [],
   "source": [
    "df = df.iloc[:,1:]"
   ]
  },
  {
   "cell_type": "code",
   "execution_count": 10,
   "id": "02ac6ba4",
   "metadata": {},
   "outputs": [
    {
     "data": {
      "text/html": [
       "<div>\n",
       "<style scoped>\n",
       "    .dataframe tbody tr th:only-of-type {\n",
       "        vertical-align: middle;\n",
       "    }\n",
       "\n",
       "    .dataframe tbody tr th {\n",
       "        vertical-align: top;\n",
       "    }\n",
       "\n",
       "    .dataframe thead th {\n",
       "        text-align: right;\n",
       "    }\n",
       "</style>\n",
       "<table border=\"1\" class=\"dataframe\">\n",
       "  <thead>\n",
       "    <tr style=\"text-align: right;\">\n",
       "      <th></th>\n",
       "      <th>User_id</th>\n",
       "      <th>Bus_id</th>\n",
       "      <th>Star</th>\n",
       "      <th>Useful</th>\n",
       "      <th>Cool</th>\n",
       "      <th>Funny</th>\n",
       "      <th>Review</th>\n",
       "      <th>State</th>\n",
       "      <th>City</th>\n",
       "      <th>Bus_Ave_Star</th>\n",
       "      <th>User_Review_count</th>\n",
       "      <th>User_Useful_count</th>\n",
       "      <th>User_Funny_count</th>\n",
       "      <th>User_Cool_count</th>\n",
       "      <th>Elite</th>\n",
       "      <th>User_Fans</th>\n",
       "      <th>Users_Ave_Star</th>\n",
       "    </tr>\n",
       "  </thead>\n",
       "  <tbody>\n",
       "    <tr>\n",
       "      <th>0</th>\n",
       "      <td>4hBhtCSgoxkrFgHa4YAD-w</td>\n",
       "      <td>bbEXAEFr4RYHLlZ-HFssTA</td>\n",
       "      <td>5.0</td>\n",
       "      <td>0</td>\n",
       "      <td>0</td>\n",
       "      <td>0</td>\n",
       "      <td>Great burgers,fries and salad!  Burgers have a...</td>\n",
       "      <td>CA</td>\n",
       "      <td>Goleta</td>\n",
       "      <td>4.0</td>\n",
       "      <td>922</td>\n",
       "      <td>1687</td>\n",
       "      <td>694</td>\n",
       "      <td>1070</td>\n",
       "      <td>2015,2016,2017,2018,2019,20,20,2021</td>\n",
       "      <td>51</td>\n",
       "      <td>4.20</td>\n",
       "    </tr>\n",
       "    <tr>\n",
       "      <th>1</th>\n",
       "      <td>JYYYKt6TdVA4ng9lLcXt_g</td>\n",
       "      <td>SZU9c8V2GuREDN5KgyHFJw</td>\n",
       "      <td>5.0</td>\n",
       "      <td>0</td>\n",
       "      <td>0</td>\n",
       "      <td>0</td>\n",
       "      <td>We were a bit weary about trying the Shellfish...</td>\n",
       "      <td>CA</td>\n",
       "      <td>Santa Barbara</td>\n",
       "      <td>4.0</td>\n",
       "      <td>338</td>\n",
       "      <td>800</td>\n",
       "      <td>144</td>\n",
       "      <td>353</td>\n",
       "      <td>2012,2013,2014,2015,2016,2017,2018,2019,20,20,...</td>\n",
       "      <td>30</td>\n",
       "      <td>4.12</td>\n",
       "    </tr>\n",
       "    <tr>\n",
       "      <th>2</th>\n",
       "      <td>Uk3X2AypU8AqvcYEVf7s6Q</td>\n",
       "      <td>eL4lyE7LNoXEMvpcJ8WNVw</td>\n",
       "      <td>3.0</td>\n",
       "      <td>5</td>\n",
       "      <td>0</td>\n",
       "      <td>0</td>\n",
       "      <td>This was a tough one!   On the merits of the w...</td>\n",
       "      <td>CA</td>\n",
       "      <td>Santa Barbara</td>\n",
       "      <td>4.0</td>\n",
       "      <td>431</td>\n",
       "      <td>2126</td>\n",
       "      <td>1245</td>\n",
       "      <td>1476</td>\n",
       "      <td>2012,2013,2014,2015,2016,2017,2018,2019,20,20,...</td>\n",
       "      <td>76</td>\n",
       "      <td>4.05</td>\n",
       "    </tr>\n",
       "    <tr>\n",
       "      <th>3</th>\n",
       "      <td>LcqNuhqaYt5ekKzaRirmIg</td>\n",
       "      <td>SZU9c8V2GuREDN5KgyHFJw</td>\n",
       "      <td>5.0</td>\n",
       "      <td>2</td>\n",
       "      <td>1</td>\n",
       "      <td>0</td>\n",
       "      <td>I love trying fresh seafood on piers, wharfs a...</td>\n",
       "      <td>CA</td>\n",
       "      <td>Santa Barbara</td>\n",
       "      <td>4.0</td>\n",
       "      <td>258</td>\n",
       "      <td>452</td>\n",
       "      <td>125</td>\n",
       "      <td>183</td>\n",
       "      <td>2015,2016,2017</td>\n",
       "      <td>37</td>\n",
       "      <td>3.99</td>\n",
       "    </tr>\n",
       "    <tr>\n",
       "      <th>4</th>\n",
       "      <td>gasLVm0KRwrVhPGRcqATjw</td>\n",
       "      <td>CHh0ZFrQcsk4boOItr2Zuw</td>\n",
       "      <td>4.0</td>\n",
       "      <td>1</td>\n",
       "      <td>2</td>\n",
       "      <td>0</td>\n",
       "      <td>I stopped in because I was hungry for some sna...</td>\n",
       "      <td>CA</td>\n",
       "      <td>Carpinteria</td>\n",
       "      <td>3.0</td>\n",
       "      <td>1638</td>\n",
       "      <td>2658</td>\n",
       "      <td>933</td>\n",
       "      <td>2297</td>\n",
       "      <td>2014,2015,2016,2017,2018,2019,20,20,2021</td>\n",
       "      <td>105</td>\n",
       "      <td>3.79</td>\n",
       "    </tr>\n",
       "  </tbody>\n",
       "</table>\n",
       "</div>"
      ],
      "text/plain": [
       "                  User_id                  Bus_id  Star  Useful  Cool  Funny  \\\n",
       "0  4hBhtCSgoxkrFgHa4YAD-w  bbEXAEFr4RYHLlZ-HFssTA   5.0       0     0      0   \n",
       "1  JYYYKt6TdVA4ng9lLcXt_g  SZU9c8V2GuREDN5KgyHFJw   5.0       0     0      0   \n",
       "2  Uk3X2AypU8AqvcYEVf7s6Q  eL4lyE7LNoXEMvpcJ8WNVw   3.0       5     0      0   \n",
       "3  LcqNuhqaYt5ekKzaRirmIg  SZU9c8V2GuREDN5KgyHFJw   5.0       2     1      0   \n",
       "4  gasLVm0KRwrVhPGRcqATjw  CHh0ZFrQcsk4boOItr2Zuw   4.0       1     2      0   \n",
       "\n",
       "                                              Review State           City  \\\n",
       "0  Great burgers,fries and salad!  Burgers have a...    CA         Goleta   \n",
       "1  We were a bit weary about trying the Shellfish...    CA  Santa Barbara   \n",
       "2  This was a tough one!   On the merits of the w...    CA  Santa Barbara   \n",
       "3  I love trying fresh seafood on piers, wharfs a...    CA  Santa Barbara   \n",
       "4  I stopped in because I was hungry for some sna...    CA    Carpinteria   \n",
       "\n",
       "   Bus_Ave_Star  User_Review_count  User_Useful_count  User_Funny_count  \\\n",
       "0           4.0                922               1687               694   \n",
       "1           4.0                338                800               144   \n",
       "2           4.0                431               2126              1245   \n",
       "3           4.0                258                452               125   \n",
       "4           3.0               1638               2658               933   \n",
       "\n",
       "   User_Cool_count                                              Elite  \\\n",
       "0             1070                2015,2016,2017,2018,2019,20,20,2021   \n",
       "1              353  2012,2013,2014,2015,2016,2017,2018,2019,20,20,...   \n",
       "2             1476  2012,2013,2014,2015,2016,2017,2018,2019,20,20,...   \n",
       "3              183                                     2015,2016,2017   \n",
       "4             2297           2014,2015,2016,2017,2018,2019,20,20,2021   \n",
       "\n",
       "   User_Fans  Users_Ave_Star  \n",
       "0         51            4.20  \n",
       "1         30            4.12  \n",
       "2         76            4.05  \n",
       "3         37            3.99  \n",
       "4        105            3.79  "
      ]
     },
     "execution_count": 10,
     "metadata": {},
     "output_type": "execute_result"
    }
   ],
   "source": [
    "df.head()"
   ]
  },
  {
   "cell_type": "code",
   "execution_count": 11,
   "id": "d9d78e70",
   "metadata": {},
   "outputs": [
    {
     "data": {
      "text/plain": [
       "0        Great burgers,fries and salad!  Burgers have a...\n",
       "1        We were a bit weary about trying the Shellfish...\n",
       "2        This was a tough one!   On the merits of the w...\n",
       "3        I love trying fresh seafood on piers, wharfs a...\n",
       "4        I stopped in because I was hungry for some sna...\n",
       "                               ...                        \n",
       "53840    So let me begin by stating that the owner of N...\n",
       "53841    We've used Jerry The Plumber for water heater ...\n",
       "53842    Wow, talk about some of the best deals I've ev...\n",
       "53843    My Husband and I decided to stop into Hook and...\n",
       "53844    We have asked Burgundy Blue to capture over 5 ...\n",
       "Name: Review, Length: 53845, dtype: object"
      ]
     },
     "execution_count": 11,
     "metadata": {},
     "output_type": "execute_result"
    }
   ],
   "source": [
    "df['Review']"
   ]
  },
  {
   "cell_type": "code",
   "execution_count": 12,
   "id": "6748d5bf",
   "metadata": {},
   "outputs": [
    {
     "data": {
      "text/plain": [
       "0        4.20\n",
       "1        4.12\n",
       "2        4.05\n",
       "3        3.99\n",
       "4        3.79\n",
       "         ... \n",
       "53840    3.41\n",
       "53841    4.74\n",
       "53842    4.74\n",
       "53843    4.36\n",
       "53844    3.94\n",
       "Name: Users_Ave_Star, Length: 53845, dtype: float64"
      ]
     },
     "execution_count": 12,
     "metadata": {},
     "output_type": "execute_result"
    }
   ],
   "source": [
    "df['Users_Ave_Star']"
   ]
  },
  {
   "attachments": {
    "image.png": {
     "image/png": "[encoded data removed]"
    }
   },
   "cell_type": "markdown",
   "id": "437ca27f",
   "metadata": {},
   "source": [
    "## How to deal with imbalanced data\n",
    "https://www.kdnuggets.com/2017/06/7-techniques-handle-imbalanced-data.html\n",
    "\n",
    "1. change evaluation matrices? Sometimes, for imbalanced dataset, F1 might be a better evaluation\n",
    "![image.png](attachment:image.png)\n",
    "2. Under sampling : since this dataset is large, we can balanced the dataset by giving balanced data for every class\n",
    "    - Over sampling: SMOTE (using knn to make synthetic data)\n",
    "3. cross validation can be applied after under sampling but cross validation should be applied before over sampling\n",
    "4. 有个package叫balancedbagging classifier 和balanced random forest classifier可以比较这两个的结果和\n",
    "    - The sampling_strategy decides the type of resampling required (e.g. ‘majority’ – resample only the majority class, ‘all’ – resample all classes, etc) and replacement decides whether it is going to be a sample with replacement or not. https://imbalanced-learn.org/stable/references/generated/imblearn.ensemble.BalancedBaggingClassifier.html\n",
    "5. **change the threshold** - For imbalanced class problems, this default threshold may not work properly. We need to change the threshold to the optimum value so that it can efficiently separate two classes. We can use ROC Curves and Precision-Recall Curves to find the optimal threshold for the classifier. We can also use a grid search method or search within a set of values to identify the optimal value. https://www.analyticsvidhya.com/blog/2021/06/5-techniques-to-handle-imbalanced-data-for-a-classification-problem/\n",
    "6. Again, if you are using scikit-learn and logistic regression, there's a parameter called class-weight. Set this to balanced."
   ]
  },
  {
   "cell_type": "code",
   "execution_count": 13,
   "id": "730a3faa",
   "metadata": {},
   "outputs": [
    {
     "name": "stdout",
     "output_type": "stream",
     "text": [
      "class rate 1: 0.03523075494474882\n",
      "class rate 2: 0.06425851982542483\n",
      "class rate 3: 0.15683907512303835\n",
      "class rate 4: 0.346457424087659\n",
      "class rate 5: 0.397214226019129\n"
     ]
    }
   ],
   "source": [
    "print(\"class rate 1:\", sum(df['Star'] == 1)/len(df['Star']))\n",
    "print(\"class rate 2:\", sum(df['Star'] == 2)/len(df['Star']))\n",
    "print(\"class rate 3:\", sum(df['Star'] == 3)/len(df['Star']))\n",
    "print(\"class rate 4:\", sum(df['Star'] == 4)/len(df['Star']))\n",
    "print(\"class rate 5:\", sum(df['Star'] == 5)/len(df['Star']))"
   ]
  },
  {
   "cell_type": "code",
   "execution_count": 14,
   "id": "9aa62e86",
   "metadata": {},
   "outputs": [
    {
     "data": {
      "text/plain": [
       "5.0    21388\n",
       "4.0    18655\n",
       "3.0     8445\n",
       "2.0     3460\n",
       "1.0     1897\n",
       "Name: Star, dtype: int64"
      ]
     },
     "execution_count": 14,
     "metadata": {},
     "output_type": "execute_result"
    }
   ],
   "source": [
    "df['Star'].value_counts()"
   ]
  },
  {
   "cell_type": "markdown",
   "id": "a94455b3",
   "metadata": {},
   "source": [
    "## Assign X and Y"
   ]
  },
  {
   "cell_type": "code",
   "execution_count": 15,
   "id": "317410f0",
   "metadata": {},
   "outputs": [],
   "source": [
    "X = df.drop(['Star','Elite','Bus_id','User_id','State','City'],axis = 1)"
   ]
  },
  {
   "cell_type": "code",
   "execution_count": 16,
   "id": "04e072a3",
   "metadata": {},
   "outputs": [
    {
     "data": {
      "text/html": [
       "<div>\n",
       "<style scoped>\n",
       "    .dataframe tbody tr th:only-of-type {\n",
       "        vertical-align: middle;\n",
       "    }\n",
       "\n",
       "    .dataframe tbody tr th {\n",
       "        vertical-align: top;\n",
       "    }\n",
       "\n",
       "    .dataframe thead th {\n",
       "        text-align: right;\n",
       "    }\n",
       "</style>\n",
       "<table border=\"1\" class=\"dataframe\">\n",
       "  <thead>\n",
       "    <tr style=\"text-align: right;\">\n",
       "      <th></th>\n",
       "      <th>Useful</th>\n",
       "      <th>Cool</th>\n",
       "      <th>Funny</th>\n",
       "      <th>Review</th>\n",
       "      <th>Bus_Ave_Star</th>\n",
       "      <th>User_Review_count</th>\n",
       "      <th>User_Useful_count</th>\n",
       "      <th>User_Funny_count</th>\n",
       "      <th>User_Cool_count</th>\n",
       "      <th>User_Fans</th>\n",
       "      <th>Users_Ave_Star</th>\n",
       "    </tr>\n",
       "  </thead>\n",
       "  <tbody>\n",
       "    <tr>\n",
       "      <th>0</th>\n",
       "      <td>0</td>\n",
       "      <td>0</td>\n",
       "      <td>0</td>\n",
       "      <td>Great burgers,fries and salad!  Burgers have a...</td>\n",
       "      <td>4.0</td>\n",
       "      <td>922</td>\n",
       "      <td>1687</td>\n",
       "      <td>694</td>\n",
       "      <td>1070</td>\n",
       "      <td>51</td>\n",
       "      <td>4.20</td>\n",
       "    </tr>\n",
       "    <tr>\n",
       "      <th>1</th>\n",
       "      <td>0</td>\n",
       "      <td>0</td>\n",
       "      <td>0</td>\n",
       "      <td>We were a bit weary about trying the Shellfish...</td>\n",
       "      <td>4.0</td>\n",
       "      <td>338</td>\n",
       "      <td>800</td>\n",
       "      <td>144</td>\n",
       "      <td>353</td>\n",
       "      <td>30</td>\n",
       "      <td>4.12</td>\n",
       "    </tr>\n",
       "    <tr>\n",
       "      <th>2</th>\n",
       "      <td>5</td>\n",
       "      <td>0</td>\n",
       "      <td>0</td>\n",
       "      <td>This was a tough one!   On the merits of the w...</td>\n",
       "      <td>4.0</td>\n",
       "      <td>431</td>\n",
       "      <td>2126</td>\n",
       "      <td>1245</td>\n",
       "      <td>1476</td>\n",
       "      <td>76</td>\n",
       "      <td>4.05</td>\n",
       "    </tr>\n",
       "    <tr>\n",
       "      <th>3</th>\n",
       "      <td>2</td>\n",
       "      <td>1</td>\n",
       "      <td>0</td>\n",
       "      <td>I love trying fresh seafood on piers, wharfs a...</td>\n",
       "      <td>4.0</td>\n",
       "      <td>258</td>\n",
       "      <td>452</td>\n",
       "      <td>125</td>\n",
       "      <td>183</td>\n",
       "      <td>37</td>\n",
       "      <td>3.99</td>\n",
       "    </tr>\n",
       "    <tr>\n",
       "      <th>4</th>\n",
       "      <td>1</td>\n",
       "      <td>2</td>\n",
       "      <td>0</td>\n",
       "      <td>I stopped in because I was hungry for some sna...</td>\n",
       "      <td>3.0</td>\n",
       "      <td>1638</td>\n",
       "      <td>2658</td>\n",
       "      <td>933</td>\n",
       "      <td>2297</td>\n",
       "      <td>105</td>\n",
       "      <td>3.79</td>\n",
       "    </tr>\n",
       "  </tbody>\n",
       "</table>\n",
       "</div>"
      ],
      "text/plain": [
       "   Useful  Cool  Funny                                             Review  \\\n",
       "0       0     0      0  Great burgers,fries and salad!  Burgers have a...   \n",
       "1       0     0      0  We were a bit weary about trying the Shellfish...   \n",
       "2       5     0      0  This was a tough one!   On the merits of the w...   \n",
       "3       2     1      0  I love trying fresh seafood on piers, wharfs a...   \n",
       "4       1     2      0  I stopped in because I was hungry for some sna...   \n",
       "\n",
       "   Bus_Ave_Star  User_Review_count  User_Useful_count  User_Funny_count  \\\n",
       "0           4.0                922               1687               694   \n",
       "1           4.0                338                800               144   \n",
       "2           4.0                431               2126              1245   \n",
       "3           4.0                258                452               125   \n",
       "4           3.0               1638               2658               933   \n",
       "\n",
       "   User_Cool_count  User_Fans  Users_Ave_Star  \n",
       "0             1070         51            4.20  \n",
       "1              353         30            4.12  \n",
       "2             1476         76            4.05  \n",
       "3              183         37            3.99  \n",
       "4             2297        105            3.79  "
      ]
     },
     "execution_count": 16,
     "metadata": {},
     "output_type": "execute_result"
    }
   ],
   "source": [
    "X.head()"
   ]
  },
  {
   "cell_type": "code",
   "execution_count": 17,
   "id": "8c931b28",
   "metadata": {},
   "outputs": [],
   "source": [
    "Y = df['Star']"
   ]
  },
  {
   "cell_type": "code",
   "execution_count": 18,
   "id": "afd49fdf",
   "metadata": {},
   "outputs": [
    {
     "data": {
      "text/plain": [
       "0        5.0\n",
       "1        5.0\n",
       "2        3.0\n",
       "3        5.0\n",
       "4        4.0\n",
       "        ... \n",
       "53840    3.0\n",
       "53841    5.0\n",
       "53842    5.0\n",
       "53843    5.0\n",
       "53844    5.0\n",
       "Name: Star, Length: 53845, dtype: float64"
      ]
     },
     "execution_count": 18,
     "metadata": {},
     "output_type": "execute_result"
    }
   ],
   "source": [
    "Y"
   ]
  },
  {
   "cell_type": "markdown",
   "id": "d4bebb0b",
   "metadata": {},
   "source": [
    "## Train Test Split"
   ]
  },
  {
   "cell_type": "code",
   "execution_count": 19,
   "id": "49ad5fb8",
   "metadata": {},
   "outputs": [],
   "source": [
    "#X_train, X_test, Y_train, Y_test = train_test_split(X, Y, test_size=0.2, random_state=42)\n",
    "X_train, X_test, Y_train, Y_test = train_test_split(X, Y, stratify=Y, test_size=0.2)"
   ]
  },
  {
   "cell_type": "code",
   "execution_count": 20,
   "id": "3bdbd7c7",
   "metadata": {},
   "outputs": [
    {
     "name": "stdout",
     "output_type": "stream",
     "text": [
      "1 0.035240040858018386\n",
      "2 0.06425851982542483\n",
      "3 0.15683907512303835\n",
      "4 0.346457424087659\n",
      "5 0.39720494010585944\n"
     ]
    }
   ],
   "source": [
    "print(\"1\", sum(Y_train==1)/len(Y_train))\n",
    "print(\"2\", sum(Y_train==2)/len(Y_train))\n",
    "print(\"3\", sum(Y_train==3)/len(Y_train))\n",
    "print(\"4\", sum(Y_train==4)/len(Y_train))\n",
    "print(\"5\", sum(Y_train==5)/len(Y_train))"
   ]
  },
  {
   "cell_type": "markdown",
   "id": "bd3b12cc",
   "metadata": {},
   "source": [
    "## Data Cleaning"
   ]
  },
  {
   "cell_type": "markdown",
   "id": "18dedbf8",
   "metadata": {},
   "source": [
    "### Drop na"
   ]
  },
  {
   "cell_type": "code",
   "execution_count": 21,
   "id": "3e53b882",
   "metadata": {},
   "outputs": [],
   "source": [
    "X_train = X_train.dropna()"
   ]
  },
  {
   "cell_type": "code",
   "execution_count": 22,
   "id": "a0778c2c",
   "metadata": {},
   "outputs": [],
   "source": [
    "X_test = X_test.dropna()"
   ]
  },
  {
   "cell_type": "code",
   "execution_count": 23,
   "id": "fe0451d8",
   "metadata": {},
   "outputs": [],
   "source": [
    "Y_train = Y_train.dropna()\n",
    "Y_test = Y_test.dropna()"
   ]
  },
  {
   "cell_type": "code",
   "execution_count": 24,
   "id": "cd29f11e",
   "metadata": {},
   "outputs": [
    {
     "data": {
      "text/plain": [
       "(True, True)"
      ]
     },
     "execution_count": 24,
     "metadata": {},
     "output_type": "execute_result"
    }
   ],
   "source": [
    "len(X_train) == len(Y_train),len(X_test) == len(Y_test)"
   ]
  },
  {
   "cell_type": "markdown",
   "id": "3f0fd6cf",
   "metadata": {},
   "source": [
    "### Finding a list for Sentiment analysis\n",
    "\n",
    "since the general stop-words = \"English\", removes meaningful words like \"not\", removing negative meaning stop-words like \"not\", \"shouldn't\", \"won't\", etc affects the performance greatly. Thus,we need to find a different list of stop words for this project\n",
    "\n",
    "https://towardsdatascience.com/text-pre-processing-stop-words-removal-using-different-libraries-f20bac19929a\n",
    "\n",
    "We picked nltk stop words between few different libraries as it removes the least amount of words (we try to perserve more information), and modified it a little bit. We removed sentiment words like \"not\",\"no“,\"cannot\" from stop-words list\n"
   ]
  },
  {
   "cell_type": "code",
   "execution_count": 25,
   "id": "2b18ba3e",
   "metadata": {},
   "outputs": [],
   "source": [
    "import nltk\n",
    "from nltk.corpus import stopwords\n",
    "sw_nltk = stopwords.words('english')"
   ]
  },
  {
   "cell_type": "code",
   "execution_count": 26,
   "id": "b39c296f",
   "metadata": {},
   "outputs": [],
   "source": [
    "remove = ['not','no','nor','most','very',\"don't\",\"aren't\",\"couldn\",\"couldn't\",'didn', \"didn't\", 'doesn', \"doesn't\", 'hadn', \"hadn't\", 'hasn', \"hasn't\", 'haven', \"haven't\", 'isn', \"isn't\", 'ma', 'mightn', \"mightn't\", 'mustn', \"mustn't\", 'needn', \"needn't\", 'shan', \"shan't\", 'shouldn', \"shouldn't\", 'wasn', \"wasn't\", 'weren', \"weren't\", 'won', \"won't\", 'wouldn', \"wouldn't\"]\n",
    "for r in remove:\n",
    "    sw_nltk.remove(r)"
   ]
  },
  {
   "cell_type": "code",
   "execution_count": 27,
   "id": "a5da7aa9",
   "metadata": {},
   "outputs": [
    {
     "name": "stdout",
     "output_type": "stream",
     "text": [
      "['i', 'me', 'my', 'myself', 'we', 'our', 'ours', 'ourselves', 'you', \"you're\", \"you've\", \"you'll\", \"you'd\", 'your', 'yours', 'yourself', 'yourselves', 'he', 'him', 'his', 'himself', 'she', \"she's\", 'her', 'hers', 'herself', 'it', \"it's\", 'its', 'itself', 'they', 'them', 'their', 'theirs', 'themselves', 'what', 'which', 'who', 'whom', 'this', 'that', \"that'll\", 'these', 'those', 'am', 'is', 'are', 'was', 'were', 'be', 'been', 'being', 'have', 'has', 'had', 'having', 'do', 'does', 'did', 'doing', 'a', 'an', 'the', 'and', 'but', 'if', 'or', 'because', 'as', 'until', 'while', 'of', 'at', 'by', 'for', 'with', 'about', 'against', 'between', 'into', 'through', 'during', 'before', 'after', 'above', 'below', 'to', 'from', 'up', 'down', 'in', 'out', 'on', 'off', 'over', 'under', 'again', 'further', 'then', 'once', 'here', 'there', 'when', 'where', 'why', 'how', 'all', 'any', 'both', 'each', 'few', 'more', 'other', 'some', 'such', 'only', 'own', 'same', 'so', 'than', 'too', 's', 't', 'can', 'will', 'just', 'don', 'should', \"should've\", 'now', 'd', 'll', 'm', 'o', 're', 've', 'y', 'ain', 'aren']\n"
     ]
    }
   ],
   "source": [
    "print(sw_nltk)"
   ]
  },
  {
   "cell_type": "markdown",
   "id": "dc193f7a",
   "metadata": {},
   "source": [
    "### Tokenization"
   ]
  },
  {
   "cell_type": "code",
   "execution_count": 28,
   "id": "03d5a3c5",
   "metadata": {},
   "outputs": [],
   "source": [
    "from gensim.utils import simple_preprocess\n",
    "X_train['Review']=[simple_preprocess(line, deacc=True) for line in X_train['Review']]"
   ]
  },
  {
   "cell_type": "code",
   "execution_count": 29,
   "id": "efa2ff49",
   "metadata": {},
   "outputs": [
    {
     "data": {
      "text/plain": [
       "8508     [the, real, reason, giving, this, place, star,...\n",
       "21610    [am, glad, to, have, place, in, goleta, where,...\n",
       "9895     [don, think, we, will, come, back, here, again...\n",
       "20283    [my, friend, been, to, india, and, she, still,...\n",
       "936      [love, sun, tues, they, have, amazing, cheap, ...\n",
       "Name: Review, dtype: object"
      ]
     },
     "execution_count": 29,
     "metadata": {},
     "output_type": "execute_result"
    }
   ],
   "source": [
    "X_train['Review'].head()"
   ]
  },
  {
   "cell_type": "markdown",
   "id": "25a79d63",
   "metadata": {},
   "source": [
    "### Remove stop-words"
   ]
  },
  {
   "cell_type": "code",
   "execution_count": 30,
   "id": "630e9870",
   "metadata": {},
   "outputs": [
    {
     "name": "stderr",
     "output_type": "stream",
     "text": [
      "/var/folders/z0/kv1zx48j29n_7rvhky2s948m0000gn/T/ipykernel_38378/2000847710.py:2: SettingWithCopyWarning: \n",
      "A value is trying to be set on a copy of a slice from a DataFrame\n",
      "\n",
      "See the caveats in the documentation: https://pandas.pydata.org/pandas-docs/stable/user_guide/indexing.html#returning-a-view-versus-a-copy\n",
      "  X_train['Review'][i] = [word for word in X_train['Review'][i] if word.lower() not in sw_nltk]\n"
     ]
    }
   ],
   "source": [
    "for i in (X_train['Review'].index.to_list()):\n",
    "    X_train['Review'][i] = [word for word in X_train['Review'][i] if word.lower() not in sw_nltk]"
   ]
  },
  {
   "cell_type": "code",
   "execution_count": 31,
   "id": "6ed262f1",
   "metadata": {},
   "outputs": [
    {
     "data": {
      "text/plain": [
       "8508     [real, reason, giving, place, star, passion, f...\n",
       "21610    [glad, place, goleta, grab, quick, good, seafo...\n",
       "9895     [think, come, back, no, neck, tattoo, policy, ...\n",
       "20283    [friend, india, still, loves, place, take, goo...\n",
       "936      [love, sun, tues, amazing, cheap, burger, spec...\n",
       "Name: Review, dtype: object"
      ]
     },
     "execution_count": 31,
     "metadata": {},
     "output_type": "execute_result"
    }
   ],
   "source": [
    "X_train['Review'].head()"
   ]
  },
  {
   "cell_type": "markdown",
   "id": "3a925abf",
   "metadata": {},
   "source": [
    "### Stemming\n",
    "Stemming process reduces the words to its’ root word. Unlike Lemmatization which uses grammar rules and dictionary for mapping words to root form, stemming simply removes suffixes/prefixes. Stemming is widely used in the application of SEOs, Web search results, and information retrieval since as long as the root matches in the text somewhere it helps to retrieve all the related documents in the search.\n",
    "\n",
    "Among different methods for stemming, we pick Porter Stemmer as it is simpler and faster"
   ]
  },
  {
   "cell_type": "code",
   "execution_count": 32,
   "id": "9791ea50",
   "metadata": {},
   "outputs": [
    {
     "data": {
      "text/plain": [
       "8508     [real, reason, give, place, star, passion, fru...\n",
       "21610    [glad, place, goleta, grab, quick, good, seafo...\n",
       "9895     [think, come, back, no, neck, tattoo, polici, ...\n",
       "20283    [friend, india, still, love, place, take, good...\n",
       "936      [love, sun, tue, amaz, cheap, burger, special,...\n",
       "Name: Review, dtype: object"
      ]
     },
     "execution_count": 32,
     "metadata": {},
     "output_type": "execute_result"
    }
   ],
   "source": [
    "from gensim.parsing.porter import PorterStemmer\n",
    "porter_stemmer = PorterStemmer()\n",
    "\n",
    "X_train['Review'] = [[porter_stemmer.stem(word) for word in tokens] for tokens in X_train['Review'] ]\n",
    "X_train['Review'].head()"
   ]
  },
  {
   "cell_type": "markdown",
   "id": "53bbf578",
   "metadata": {},
   "source": [
    "### Lemmatization\n",
    "Lemmatization is the process of grouping together the different inflected forms of a word so they can be analyzed as a single item. Lemmatization is similar to stemming but it brings context to the words. So it links words with similar meanings to one word. \n",
    "\n",
    "For instance, lemmatization will change \"best\" to \"good\"... However, it does loose some information for sentiment analysis. Therefore, in this case, we choose to not use lemmatization but use stemming"
   ]
  },
  {
   "cell_type": "markdown",
   "id": "23df8d09",
   "metadata": {},
   "source": [
    "### TF-IDF\n",
    "\n",
    "The whole idea is to weigh down the frequent terms while scaling up the rare ones. (helpful for search engines but maybe not in this case?)\n",
    "\n",
    "A high weight in tf–idf is reached by a high term frequency (in the given document) and a low document frequency of the term in the whole collection of documents; the weights hence tend to filter out common terms. \n",
    "所以我们可以用TF-IDF来filter出一些常见的词汇\n",
    "\n",
    "TF-IDF gives larger values for less frequent words in the document corpus. TF-IDF value is high when both IDF and TF values are high i.e the word is rare in the whole document but frequent in a document.\n",
    "\n",
    "TF-IDF also doesn’t take the semantic meaning of the words.\n",
    "\n",
    "TF = number of times the term appears in the doc/total number of words in the doc\n",
    "\n",
    "IDF = ln(number of docs/number docs the term appears in)"
   ]
  },
  {
   "cell_type": "code",
   "execution_count": 33,
   "id": "902fd29a",
   "metadata": {},
   "outputs": [
    {
     "name": "stderr",
     "output_type": "stream",
     "text": [
      "/var/folders/z0/kv1zx48j29n_7rvhky2s948m0000gn/T/ipykernel_38378/2330392899.py:2: SettingWithCopyWarning: \n",
      "A value is trying to be set on a copy of a slice from a DataFrame\n",
      "\n",
      "See the caveats in the documentation: https://pandas.pydata.org/pandas-docs/stable/user_guide/indexing.html#returning-a-view-versus-a-copy\n",
      "  X_train['Review'][i] = \" \".join(X_train['Review'][i])\n"
     ]
    },
    {
     "data": {
      "text/plain": [
       "8508     real reason give place star passion fruit cock...\n",
       "21610    glad place goleta grab quick good seafood favo...\n",
       "9895     think come back no neck tattoo polici bf clean...\n",
       "20283    friend india still love place take good sign o...\n",
       "936      love sun tue amaz cheap burger special take ad...\n",
       "Name: Review, dtype: object"
      ]
     },
     "execution_count": 33,
     "metadata": {},
     "output_type": "execute_result"
    }
   ],
   "source": [
    "for i in (X_train['Review'].index.to_list()):\n",
    "    X_train['Review'][i] = \" \".join(X_train['Review'][i])\n",
    "    \n",
    "X_train['Review'].head()"
   ]
  },
  {
   "cell_type": "code",
   "execution_count": 34,
   "id": "babbb736",
   "metadata": {},
   "outputs": [],
   "source": [
    "# use tfidf by removing tokens that don't appear in at least 10 reviews\n",
    "vect = TfidfVectorizer(min_df=10, stop_words=None) #look into TfidfVectorizer\n",
    "\n",
    "# Fit and transform\n",
    "X_Review = vect.fit_transform(X_train['Review']) #transforms the document headlines"
   ]
  },
  {
   "cell_type": "code",
   "execution_count": 35,
   "id": "3086e144",
   "metadata": {},
   "outputs": [
    {
     "data": {
      "text/html": [
       "<div>\n",
       "<style scoped>\n",
       "    .dataframe tbody tr th:only-of-type {\n",
       "        vertical-align: middle;\n",
       "    }\n",
       "\n",
       "    .dataframe tbody tr th {\n",
       "        vertical-align: top;\n",
       "    }\n",
       "\n",
       "    .dataframe thead th {\n",
       "        text-align: right;\n",
       "    }\n",
       "</style>\n",
       "<table border=\"1\" class=\"dataframe\">\n",
       "  <thead>\n",
       "    <tr style=\"text-align: right;\">\n",
       "      <th></th>\n",
       "      <th>aaa</th>\n",
       "      <th>aaron</th>\n",
       "      <th>ab</th>\n",
       "      <th>aback</th>\n",
       "      <th>abalon</th>\n",
       "      <th>abandon</th>\n",
       "      <th>abc</th>\n",
       "      <th>abil</th>\n",
       "      <th>abl</th>\n",
       "      <th>aboard</th>\n",
       "      <th>...</th>\n",
       "      <th>zip</th>\n",
       "      <th>zippi</th>\n",
       "      <th>zizzo</th>\n",
       "      <th>zodo</th>\n",
       "      <th>zombi</th>\n",
       "      <th>zone</th>\n",
       "      <th>zoo</th>\n",
       "      <th>zooker</th>\n",
       "      <th>zoom</th>\n",
       "      <th>zucchini</th>\n",
       "    </tr>\n",
       "  </thead>\n",
       "  <tbody>\n",
       "    <tr>\n",
       "      <th>0</th>\n",
       "      <td>0.0</td>\n",
       "      <td>0.0</td>\n",
       "      <td>0.0</td>\n",
       "      <td>0.0</td>\n",
       "      <td>0.0</td>\n",
       "      <td>0.0</td>\n",
       "      <td>0.0</td>\n",
       "      <td>0.0</td>\n",
       "      <td>0.0</td>\n",
       "      <td>0.0</td>\n",
       "      <td>...</td>\n",
       "      <td>0.0</td>\n",
       "      <td>0.0</td>\n",
       "      <td>0.0</td>\n",
       "      <td>0.0</td>\n",
       "      <td>0.0</td>\n",
       "      <td>0.0</td>\n",
       "      <td>0.0</td>\n",
       "      <td>0.0</td>\n",
       "      <td>0.0</td>\n",
       "      <td>0.0</td>\n",
       "    </tr>\n",
       "    <tr>\n",
       "      <th>1</th>\n",
       "      <td>0.0</td>\n",
       "      <td>0.0</td>\n",
       "      <td>0.0</td>\n",
       "      <td>0.0</td>\n",
       "      <td>0.0</td>\n",
       "      <td>0.0</td>\n",
       "      <td>0.0</td>\n",
       "      <td>0.0</td>\n",
       "      <td>0.0</td>\n",
       "      <td>0.0</td>\n",
       "      <td>...</td>\n",
       "      <td>0.0</td>\n",
       "      <td>0.0</td>\n",
       "      <td>0.0</td>\n",
       "      <td>0.0</td>\n",
       "      <td>0.0</td>\n",
       "      <td>0.0</td>\n",
       "      <td>0.0</td>\n",
       "      <td>0.0</td>\n",
       "      <td>0.0</td>\n",
       "      <td>0.0</td>\n",
       "    </tr>\n",
       "    <tr>\n",
       "      <th>2</th>\n",
       "      <td>0.0</td>\n",
       "      <td>0.0</td>\n",
       "      <td>0.0</td>\n",
       "      <td>0.0</td>\n",
       "      <td>0.0</td>\n",
       "      <td>0.0</td>\n",
       "      <td>0.0</td>\n",
       "      <td>0.0</td>\n",
       "      <td>0.0</td>\n",
       "      <td>0.0</td>\n",
       "      <td>...</td>\n",
       "      <td>0.0</td>\n",
       "      <td>0.0</td>\n",
       "      <td>0.0</td>\n",
       "      <td>0.0</td>\n",
       "      <td>0.0</td>\n",
       "      <td>0.0</td>\n",
       "      <td>0.0</td>\n",
       "      <td>0.0</td>\n",
       "      <td>0.0</td>\n",
       "      <td>0.0</td>\n",
       "    </tr>\n",
       "    <tr>\n",
       "      <th>3</th>\n",
       "      <td>0.0</td>\n",
       "      <td>0.0</td>\n",
       "      <td>0.0</td>\n",
       "      <td>0.0</td>\n",
       "      <td>0.0</td>\n",
       "      <td>0.0</td>\n",
       "      <td>0.0</td>\n",
       "      <td>0.0</td>\n",
       "      <td>0.0</td>\n",
       "      <td>0.0</td>\n",
       "      <td>...</td>\n",
       "      <td>0.0</td>\n",
       "      <td>0.0</td>\n",
       "      <td>0.0</td>\n",
       "      <td>0.0</td>\n",
       "      <td>0.0</td>\n",
       "      <td>0.0</td>\n",
       "      <td>0.0</td>\n",
       "      <td>0.0</td>\n",
       "      <td>0.0</td>\n",
       "      <td>0.0</td>\n",
       "    </tr>\n",
       "    <tr>\n",
       "      <th>4</th>\n",
       "      <td>0.0</td>\n",
       "      <td>0.0</td>\n",
       "      <td>0.0</td>\n",
       "      <td>0.0</td>\n",
       "      <td>0.0</td>\n",
       "      <td>0.0</td>\n",
       "      <td>0.0</td>\n",
       "      <td>0.0</td>\n",
       "      <td>0.0</td>\n",
       "      <td>0.0</td>\n",
       "      <td>...</td>\n",
       "      <td>0.0</td>\n",
       "      <td>0.0</td>\n",
       "      <td>0.0</td>\n",
       "      <td>0.0</td>\n",
       "      <td>0.0</td>\n",
       "      <td>0.0</td>\n",
       "      <td>0.0</td>\n",
       "      <td>0.0</td>\n",
       "      <td>0.0</td>\n",
       "      <td>0.0</td>\n",
       "    </tr>\n",
       "    <tr>\n",
       "      <th>...</th>\n",
       "      <td>...</td>\n",
       "      <td>...</td>\n",
       "      <td>...</td>\n",
       "      <td>...</td>\n",
       "      <td>...</td>\n",
       "      <td>...</td>\n",
       "      <td>...</td>\n",
       "      <td>...</td>\n",
       "      <td>...</td>\n",
       "      <td>...</td>\n",
       "      <td>...</td>\n",
       "      <td>...</td>\n",
       "      <td>...</td>\n",
       "      <td>...</td>\n",
       "      <td>...</td>\n",
       "      <td>...</td>\n",
       "      <td>...</td>\n",
       "      <td>...</td>\n",
       "      <td>...</td>\n",
       "      <td>...</td>\n",
       "      <td>...</td>\n",
       "    </tr>\n",
       "    <tr>\n",
       "      <th>43071</th>\n",
       "      <td>0.0</td>\n",
       "      <td>0.0</td>\n",
       "      <td>0.0</td>\n",
       "      <td>0.0</td>\n",
       "      <td>0.0</td>\n",
       "      <td>0.0</td>\n",
       "      <td>0.0</td>\n",
       "      <td>0.0</td>\n",
       "      <td>0.0</td>\n",
       "      <td>0.0</td>\n",
       "      <td>...</td>\n",
       "      <td>0.0</td>\n",
       "      <td>0.0</td>\n",
       "      <td>0.0</td>\n",
       "      <td>0.0</td>\n",
       "      <td>0.0</td>\n",
       "      <td>0.0</td>\n",
       "      <td>0.0</td>\n",
       "      <td>0.0</td>\n",
       "      <td>0.0</td>\n",
       "      <td>0.0</td>\n",
       "    </tr>\n",
       "    <tr>\n",
       "      <th>43072</th>\n",
       "      <td>0.0</td>\n",
       "      <td>0.0</td>\n",
       "      <td>0.0</td>\n",
       "      <td>0.0</td>\n",
       "      <td>0.0</td>\n",
       "      <td>0.0</td>\n",
       "      <td>0.0</td>\n",
       "      <td>0.0</td>\n",
       "      <td>0.0</td>\n",
       "      <td>0.0</td>\n",
       "      <td>...</td>\n",
       "      <td>0.0</td>\n",
       "      <td>0.0</td>\n",
       "      <td>0.0</td>\n",
       "      <td>0.0</td>\n",
       "      <td>0.0</td>\n",
       "      <td>0.0</td>\n",
       "      <td>0.0</td>\n",
       "      <td>0.0</td>\n",
       "      <td>0.0</td>\n",
       "      <td>0.0</td>\n",
       "    </tr>\n",
       "    <tr>\n",
       "      <th>43073</th>\n",
       "      <td>0.0</td>\n",
       "      <td>0.0</td>\n",
       "      <td>0.0</td>\n",
       "      <td>0.0</td>\n",
       "      <td>0.0</td>\n",
       "      <td>0.0</td>\n",
       "      <td>0.0</td>\n",
       "      <td>0.0</td>\n",
       "      <td>0.0</td>\n",
       "      <td>0.0</td>\n",
       "      <td>...</td>\n",
       "      <td>0.0</td>\n",
       "      <td>0.0</td>\n",
       "      <td>0.0</td>\n",
       "      <td>0.0</td>\n",
       "      <td>0.0</td>\n",
       "      <td>0.0</td>\n",
       "      <td>0.0</td>\n",
       "      <td>0.0</td>\n",
       "      <td>0.0</td>\n",
       "      <td>0.0</td>\n",
       "    </tr>\n",
       "    <tr>\n",
       "      <th>43074</th>\n",
       "      <td>0.0</td>\n",
       "      <td>0.0</td>\n",
       "      <td>0.0</td>\n",
       "      <td>0.0</td>\n",
       "      <td>0.0</td>\n",
       "      <td>0.0</td>\n",
       "      <td>0.0</td>\n",
       "      <td>0.0</td>\n",
       "      <td>0.0</td>\n",
       "      <td>0.0</td>\n",
       "      <td>...</td>\n",
       "      <td>0.0</td>\n",
       "      <td>0.0</td>\n",
       "      <td>0.0</td>\n",
       "      <td>0.0</td>\n",
       "      <td>0.0</td>\n",
       "      <td>0.0</td>\n",
       "      <td>0.0</td>\n",
       "      <td>0.0</td>\n",
       "      <td>0.0</td>\n",
       "      <td>0.0</td>\n",
       "    </tr>\n",
       "    <tr>\n",
       "      <th>43075</th>\n",
       "      <td>0.0</td>\n",
       "      <td>0.0</td>\n",
       "      <td>0.0</td>\n",
       "      <td>0.0</td>\n",
       "      <td>0.0</td>\n",
       "      <td>0.0</td>\n",
       "      <td>0.0</td>\n",
       "      <td>0.0</td>\n",
       "      <td>0.0</td>\n",
       "      <td>0.0</td>\n",
       "      <td>...</td>\n",
       "      <td>0.0</td>\n",
       "      <td>0.0</td>\n",
       "      <td>0.0</td>\n",
       "      <td>0.0</td>\n",
       "      <td>0.0</td>\n",
       "      <td>0.0</td>\n",
       "      <td>0.0</td>\n",
       "      <td>0.0</td>\n",
       "      <td>0.0</td>\n",
       "      <td>0.0</td>\n",
       "    </tr>\n",
       "  </tbody>\n",
       "</table>\n",
       "<p>43076 rows × 8511 columns</p>\n",
       "</div>"
      ],
      "text/plain": [
       "       aaa  aaron   ab  aback  abalon  abandon  abc  abil  abl  aboard  ...  \\\n",
       "0      0.0    0.0  0.0    0.0     0.0      0.0  0.0   0.0  0.0     0.0  ...   \n",
       "1      0.0    0.0  0.0    0.0     0.0      0.0  0.0   0.0  0.0     0.0  ...   \n",
       "2      0.0    0.0  0.0    0.0     0.0      0.0  0.0   0.0  0.0     0.0  ...   \n",
       "3      0.0    0.0  0.0    0.0     0.0      0.0  0.0   0.0  0.0     0.0  ...   \n",
       "4      0.0    0.0  0.0    0.0     0.0      0.0  0.0   0.0  0.0     0.0  ...   \n",
       "...    ...    ...  ...    ...     ...      ...  ...   ...  ...     ...  ...   \n",
       "43071  0.0    0.0  0.0    0.0     0.0      0.0  0.0   0.0  0.0     0.0  ...   \n",
       "43072  0.0    0.0  0.0    0.0     0.0      0.0  0.0   0.0  0.0     0.0  ...   \n",
       "43073  0.0    0.0  0.0    0.0     0.0      0.0  0.0   0.0  0.0     0.0  ...   \n",
       "43074  0.0    0.0  0.0    0.0     0.0      0.0  0.0   0.0  0.0     0.0  ...   \n",
       "43075  0.0    0.0  0.0    0.0     0.0      0.0  0.0   0.0  0.0     0.0  ...   \n",
       "\n",
       "       zip  zippi  zizzo  zodo  zombi  zone  zoo  zooker  zoom  zucchini  \n",
       "0      0.0    0.0    0.0   0.0    0.0   0.0  0.0     0.0   0.0       0.0  \n",
       "1      0.0    0.0    0.0   0.0    0.0   0.0  0.0     0.0   0.0       0.0  \n",
       "2      0.0    0.0    0.0   0.0    0.0   0.0  0.0     0.0   0.0       0.0  \n",
       "3      0.0    0.0    0.0   0.0    0.0   0.0  0.0     0.0   0.0       0.0  \n",
       "4      0.0    0.0    0.0   0.0    0.0   0.0  0.0     0.0   0.0       0.0  \n",
       "...    ...    ...    ...   ...    ...   ...  ...     ...   ...       ...  \n",
       "43071  0.0    0.0    0.0   0.0    0.0   0.0  0.0     0.0   0.0       0.0  \n",
       "43072  0.0    0.0    0.0   0.0    0.0   0.0  0.0     0.0   0.0       0.0  \n",
       "43073  0.0    0.0    0.0   0.0    0.0   0.0  0.0     0.0   0.0       0.0  \n",
       "43074  0.0    0.0    0.0   0.0    0.0   0.0  0.0     0.0   0.0       0.0  \n",
       "43075  0.0    0.0    0.0   0.0    0.0   0.0  0.0     0.0   0.0       0.0  \n",
       "\n",
       "[43076 rows x 8511 columns]"
      ]
     },
     "execution_count": 35,
     "metadata": {},
     "output_type": "execute_result"
    }
   ],
   "source": [
    "X_Review_df = pd.DataFrame(X_Review.toarray(), columns = vect.get_feature_names())\n",
    "X_Review_df"
   ]
  },
  {
   "cell_type": "markdown",
   "id": "4bb9ec9e",
   "metadata": {},
   "source": [
    "highlight一些 tf_idf表示sentiment的词语，然后sum他们的和，最后选取sum出来 值>150的词语作为bag of words的dictionary"
   ]
  },
  {
   "cell_type": "code",
   "execution_count": 36,
   "id": "8b2676fc",
   "metadata": {},
   "outputs": [],
   "source": [
    "positive = pd.read_csv('positive-words.txt',header = None)\n",
    "negative = pd.read_csv('negative-words.txt',header = None)\n",
    "positive.columns = [\"positive\"]\n",
    "pos_list = list(positive['positive'])\n",
    "negative.columns = [\"negative\"]\n",
    "neg_list = list(negative['negative'])"
   ]
  },
  {
   "cell_type": "code",
   "execution_count": 37,
   "id": "6fe85170",
   "metadata": {},
   "outputs": [],
   "source": [
    "sen_dic = []\n",
    "sen_dic = list((set(neg_list).union(set(pos_list))).intersection(set(vect.get_feature_names())))"
   ]
  },
  {
   "cell_type": "code",
   "execution_count": 38,
   "id": "f10d1369",
   "metadata": {},
   "outputs": [],
   "source": [
    "X_Review_df[sen_dic] = X_Review_df[sen_dic]*10"
   ]
  },
  {
   "cell_type": "code",
   "execution_count": 39,
   "id": "833c7db5",
   "metadata": {},
   "outputs": [],
   "source": [
    "sum_val = X_Review_df.apply(sum,axis = 0)"
   ]
  },
  {
   "cell_type": "code",
   "execution_count": 43,
   "id": "06557e6c",
   "metadata": {},
   "outputs": [],
   "source": [
    "bow_dic = X_Review_df.columns[sum_val >= 200].to_list()"
   ]
  },
  {
   "cell_type": "code",
   "execution_count": 44,
   "id": "f3e147af",
   "metadata": {},
   "outputs": [
    {
     "data": {
      "text/plain": [
       "459"
      ]
     },
     "execution_count": 44,
     "metadata": {},
     "output_type": "execute_result"
    }
   ],
   "source": [
    "len(bow_dic)"
   ]
  },
  {
   "cell_type": "markdown",
   "id": "da9132c6",
   "metadata": {},
   "source": [
    "### Bag of Words\n",
    "The bag-of-words model is a simplifying representation used in natural language processing and information retrieval (IR). In this model, a text (such as a sentence or a document) is represented as the bag (multiset) of its words, disregarding grammar and even word order but keeping multiplicity.\n",
    "\n",
    "The bag-of-words model is commonly used in methods of document classification where the (frequency of) occurrence of each word is used as a feature for training a classifier.\n",
    "\n",
    "BOW doesn’t work very well when there are small changes in the terminology we are using as here we have sentences with similar meaning but with just different words. -- thus inroduce lemmatization\n",
    "\n",
    "Sparse vectors require more memory and computational resources when modeling and the vast number of positions or dimensions can make the modeling process very challenging for traditional algorithms.As such, there is pressure to decrease the size of the vocabulary when using a bag-of-words model. -- Thus introduce NMF to do dimensionality reduction and NMF >PCA and SVM because **the non-negativity constraint extract the useful information from the result and better for interpretation**"
   ]
  },
  {
   "cell_type": "code",
   "execution_count": 45,
   "id": "bab9b454",
   "metadata": {},
   "outputs": [],
   "source": [
    "from sklearn.feature_extraction.text import CountVectorizer, TfidfVectorizer\n",
    "CountVec = CountVectorizer(ngram_range=(1,1), max_df = 21538, min_df = 10)# to use bigrams ngram_range=(2,2) # max_feature can only control the most common top words"
   ]
  },
  {
   "cell_type": "code",
   "execution_count": 46,
   "id": "fe08aa5d",
   "metadata": {},
   "outputs": [],
   "source": [
    "count_matrix = CountVec.fit_transform(X_train['Review'])\n",
    "count_array = count_matrix.toarray()\n",
    "BOW_df = pd.DataFrame(data=count_array,columns = CountVec.get_feature_names())"
   ]
  },
  {
   "cell_type": "code",
   "execution_count": 47,
   "id": "e663532c",
   "metadata": {},
   "outputs": [
    {
     "data": {
      "text/html": [
       "<div>\n",
       "<style scoped>\n",
       "    .dataframe tbody tr th:only-of-type {\n",
       "        vertical-align: middle;\n",
       "    }\n",
       "\n",
       "    .dataframe tbody tr th {\n",
       "        vertical-align: top;\n",
       "    }\n",
       "\n",
       "    .dataframe thead th {\n",
       "        text-align: right;\n",
       "    }\n",
       "</style>\n",
       "<table border=\"1\" class=\"dataframe\">\n",
       "  <thead>\n",
       "    <tr style=\"text-align: right;\">\n",
       "      <th></th>\n",
       "      <th>aaa</th>\n",
       "      <th>aaron</th>\n",
       "      <th>ab</th>\n",
       "      <th>aback</th>\n",
       "      <th>abalon</th>\n",
       "      <th>abandon</th>\n",
       "      <th>abc</th>\n",
       "      <th>abil</th>\n",
       "      <th>abl</th>\n",
       "      <th>aboard</th>\n",
       "      <th>...</th>\n",
       "      <th>zip</th>\n",
       "      <th>zippi</th>\n",
       "      <th>zizzo</th>\n",
       "      <th>zodo</th>\n",
       "      <th>zombi</th>\n",
       "      <th>zone</th>\n",
       "      <th>zoo</th>\n",
       "      <th>zooker</th>\n",
       "      <th>zoom</th>\n",
       "      <th>zucchini</th>\n",
       "    </tr>\n",
       "  </thead>\n",
       "  <tbody>\n",
       "    <tr>\n",
       "      <th>0</th>\n",
       "      <td>0</td>\n",
       "      <td>0</td>\n",
       "      <td>0</td>\n",
       "      <td>0</td>\n",
       "      <td>0</td>\n",
       "      <td>0</td>\n",
       "      <td>0</td>\n",
       "      <td>0</td>\n",
       "      <td>0</td>\n",
       "      <td>0</td>\n",
       "      <td>...</td>\n",
       "      <td>0</td>\n",
       "      <td>0</td>\n",
       "      <td>0</td>\n",
       "      <td>0</td>\n",
       "      <td>0</td>\n",
       "      <td>0</td>\n",
       "      <td>0</td>\n",
       "      <td>0</td>\n",
       "      <td>0</td>\n",
       "      <td>0</td>\n",
       "    </tr>\n",
       "    <tr>\n",
       "      <th>1</th>\n",
       "      <td>0</td>\n",
       "      <td>0</td>\n",
       "      <td>0</td>\n",
       "      <td>0</td>\n",
       "      <td>0</td>\n",
       "      <td>0</td>\n",
       "      <td>0</td>\n",
       "      <td>0</td>\n",
       "      <td>0</td>\n",
       "      <td>0</td>\n",
       "      <td>...</td>\n",
       "      <td>0</td>\n",
       "      <td>0</td>\n",
       "      <td>0</td>\n",
       "      <td>0</td>\n",
       "      <td>0</td>\n",
       "      <td>0</td>\n",
       "      <td>0</td>\n",
       "      <td>0</td>\n",
       "      <td>0</td>\n",
       "      <td>0</td>\n",
       "    </tr>\n",
       "    <tr>\n",
       "      <th>2</th>\n",
       "      <td>0</td>\n",
       "      <td>0</td>\n",
       "      <td>0</td>\n",
       "      <td>0</td>\n",
       "      <td>0</td>\n",
       "      <td>0</td>\n",
       "      <td>0</td>\n",
       "      <td>0</td>\n",
       "      <td>0</td>\n",
       "      <td>0</td>\n",
       "      <td>...</td>\n",
       "      <td>0</td>\n",
       "      <td>0</td>\n",
       "      <td>0</td>\n",
       "      <td>0</td>\n",
       "      <td>0</td>\n",
       "      <td>0</td>\n",
       "      <td>0</td>\n",
       "      <td>0</td>\n",
       "      <td>0</td>\n",
       "      <td>0</td>\n",
       "    </tr>\n",
       "    <tr>\n",
       "      <th>3</th>\n",
       "      <td>0</td>\n",
       "      <td>0</td>\n",
       "      <td>0</td>\n",
       "      <td>0</td>\n",
       "      <td>0</td>\n",
       "      <td>0</td>\n",
       "      <td>0</td>\n",
       "      <td>0</td>\n",
       "      <td>0</td>\n",
       "      <td>0</td>\n",
       "      <td>...</td>\n",
       "      <td>0</td>\n",
       "      <td>0</td>\n",
       "      <td>0</td>\n",
       "      <td>0</td>\n",
       "      <td>0</td>\n",
       "      <td>0</td>\n",
       "      <td>0</td>\n",
       "      <td>0</td>\n",
       "      <td>0</td>\n",
       "      <td>0</td>\n",
       "    </tr>\n",
       "    <tr>\n",
       "      <th>4</th>\n",
       "      <td>0</td>\n",
       "      <td>0</td>\n",
       "      <td>0</td>\n",
       "      <td>0</td>\n",
       "      <td>0</td>\n",
       "      <td>0</td>\n",
       "      <td>0</td>\n",
       "      <td>0</td>\n",
       "      <td>0</td>\n",
       "      <td>0</td>\n",
       "      <td>...</td>\n",
       "      <td>0</td>\n",
       "      <td>0</td>\n",
       "      <td>0</td>\n",
       "      <td>0</td>\n",
       "      <td>0</td>\n",
       "      <td>0</td>\n",
       "      <td>0</td>\n",
       "      <td>0</td>\n",
       "      <td>0</td>\n",
       "      <td>0</td>\n",
       "    </tr>\n",
       "  </tbody>\n",
       "</table>\n",
       "<p>5 rows × 8511 columns</p>\n",
       "</div>"
      ],
      "text/plain": [
       "   aaa  aaron  ab  aback  abalon  abandon  abc  abil  abl  aboard  ...  zip  \\\n",
       "0    0      0   0      0       0        0    0     0    0       0  ...    0   \n",
       "1    0      0   0      0       0        0    0     0    0       0  ...    0   \n",
       "2    0      0   0      0       0        0    0     0    0       0  ...    0   \n",
       "3    0      0   0      0       0        0    0     0    0       0  ...    0   \n",
       "4    0      0   0      0       0        0    0     0    0       0  ...    0   \n",
       "\n",
       "   zippi  zizzo  zodo  zombi  zone  zoo  zooker  zoom  zucchini  \n",
       "0      0      0     0      0     0    0       0     0         0  \n",
       "1      0      0     0      0     0    0       0     0         0  \n",
       "2      0      0     0      0     0    0       0     0         0  \n",
       "3      0      0     0      0     0    0       0     0         0  \n",
       "4      0      0     0      0     0    0       0     0         0  \n",
       "\n",
       "[5 rows x 8511 columns]"
      ]
     },
     "execution_count": 47,
     "metadata": {},
     "output_type": "execute_result"
    }
   ],
   "source": [
    "BOW_df.head()"
   ]
  },
  {
   "cell_type": "code",
   "execution_count": 53,
   "id": "4cb85b86",
   "metadata": {},
   "outputs": [
    {
     "data": {
      "text/html": [
       "<div>\n",
       "<style scoped>\n",
       "    .dataframe tbody tr th:only-of-type {\n",
       "        vertical-align: middle;\n",
       "    }\n",
       "\n",
       "    .dataframe tbody tr th {\n",
       "        vertical-align: top;\n",
       "    }\n",
       "\n",
       "    .dataframe thead th {\n",
       "        text-align: right;\n",
       "    }\n",
       "</style>\n",
       "<table border=\"1\" class=\"dataframe\">\n",
       "  <thead>\n",
       "    <tr style=\"text-align: right;\">\n",
       "      <th></th>\n",
       "      <th>open</th>\n",
       "      <th>sinc</th>\n",
       "      <th>bore</th>\n",
       "      <th>safe</th>\n",
       "      <th>egg</th>\n",
       "      <th>portion</th>\n",
       "      <th>burn</th>\n",
       "      <th>crack</th>\n",
       "      <th>realli</th>\n",
       "      <th>overal</th>\n",
       "      <th>...</th>\n",
       "      <th>seat</th>\n",
       "      <th>regret</th>\n",
       "      <th>nice</th>\n",
       "      <th>great</th>\n",
       "      <th>must</th>\n",
       "      <th>definit</th>\n",
       "      <th>mexican</th>\n",
       "      <th>stop</th>\n",
       "      <th>drag</th>\n",
       "      <th>appeal</th>\n",
       "    </tr>\n",
       "  </thead>\n",
       "  <tbody>\n",
       "    <tr>\n",
       "      <th>8508</th>\n",
       "      <td>0</td>\n",
       "      <td>0</td>\n",
       "      <td>1</td>\n",
       "      <td>0</td>\n",
       "      <td>0</td>\n",
       "      <td>0</td>\n",
       "      <td>0</td>\n",
       "      <td>0</td>\n",
       "      <td>1</td>\n",
       "      <td>0</td>\n",
       "      <td>...</td>\n",
       "      <td>0</td>\n",
       "      <td>0</td>\n",
       "      <td>0</td>\n",
       "      <td>0</td>\n",
       "      <td>1</td>\n",
       "      <td>0</td>\n",
       "      <td>0</td>\n",
       "      <td>0</td>\n",
       "      <td>0</td>\n",
       "      <td>0</td>\n",
       "    </tr>\n",
       "    <tr>\n",
       "      <th>21610</th>\n",
       "      <td>0</td>\n",
       "      <td>0</td>\n",
       "      <td>0</td>\n",
       "      <td>0</td>\n",
       "      <td>0</td>\n",
       "      <td>0</td>\n",
       "      <td>0</td>\n",
       "      <td>0</td>\n",
       "      <td>2</td>\n",
       "      <td>0</td>\n",
       "      <td>...</td>\n",
       "      <td>0</td>\n",
       "      <td>0</td>\n",
       "      <td>1</td>\n",
       "      <td>0</td>\n",
       "      <td>0</td>\n",
       "      <td>0</td>\n",
       "      <td>0</td>\n",
       "      <td>0</td>\n",
       "      <td>0</td>\n",
       "      <td>0</td>\n",
       "    </tr>\n",
       "    <tr>\n",
       "      <th>9895</th>\n",
       "      <td>0</td>\n",
       "      <td>0</td>\n",
       "      <td>0</td>\n",
       "      <td>0</td>\n",
       "      <td>0</td>\n",
       "      <td>0</td>\n",
       "      <td>0</td>\n",
       "      <td>0</td>\n",
       "      <td>0</td>\n",
       "      <td>0</td>\n",
       "      <td>...</td>\n",
       "      <td>0</td>\n",
       "      <td>0</td>\n",
       "      <td>1</td>\n",
       "      <td>0</td>\n",
       "      <td>0</td>\n",
       "      <td>0</td>\n",
       "      <td>0</td>\n",
       "      <td>1</td>\n",
       "      <td>0</td>\n",
       "      <td>0</td>\n",
       "    </tr>\n",
       "    <tr>\n",
       "      <th>20283</th>\n",
       "      <td>0</td>\n",
       "      <td>0</td>\n",
       "      <td>0</td>\n",
       "      <td>0</td>\n",
       "      <td>0</td>\n",
       "      <td>0</td>\n",
       "      <td>0</td>\n",
       "      <td>0</td>\n",
       "      <td>0</td>\n",
       "      <td>0</td>\n",
       "      <td>...</td>\n",
       "      <td>0</td>\n",
       "      <td>0</td>\n",
       "      <td>0</td>\n",
       "      <td>0</td>\n",
       "      <td>0</td>\n",
       "      <td>0</td>\n",
       "      <td>0</td>\n",
       "      <td>0</td>\n",
       "      <td>0</td>\n",
       "      <td>0</td>\n",
       "    </tr>\n",
       "    <tr>\n",
       "      <th>936</th>\n",
       "      <td>0</td>\n",
       "      <td>0</td>\n",
       "      <td>0</td>\n",
       "      <td>0</td>\n",
       "      <td>0</td>\n",
       "      <td>0</td>\n",
       "      <td>0</td>\n",
       "      <td>0</td>\n",
       "      <td>0</td>\n",
       "      <td>0</td>\n",
       "      <td>...</td>\n",
       "      <td>0</td>\n",
       "      <td>0</td>\n",
       "      <td>0</td>\n",
       "      <td>0</td>\n",
       "      <td>0</td>\n",
       "      <td>0</td>\n",
       "      <td>0</td>\n",
       "      <td>0</td>\n",
       "      <td>0</td>\n",
       "      <td>0</td>\n",
       "    </tr>\n",
       "  </tbody>\n",
       "</table>\n",
       "<p>5 rows × 459 columns</p>\n",
       "</div>"
      ],
      "text/plain": [
       "       open  sinc  bore  safe  egg  portion  burn  crack  realli  overal  ...  \\\n",
       "8508      0     0     1     0    0        0     0      0       1       0  ...   \n",
       "21610     0     0     0     0    0        0     0      0       2       0  ...   \n",
       "9895      0     0     0     0    0        0     0      0       0       0  ...   \n",
       "20283     0     0     0     0    0        0     0      0       0       0  ...   \n",
       "936       0     0     0     0    0        0     0      0       0       0  ...   \n",
       "\n",
       "       seat  regret  nice  great  must  definit  mexican  stop  drag  appeal  \n",
       "8508      0       0     0      0     1        0        0     0     0       0  \n",
       "21610     0       0     1      0     0        0        0     0     0       0  \n",
       "9895      0       0     1      0     0        0        0     1     0       0  \n",
       "20283     0       0     0      0     0        0        0     0     0       0  \n",
       "936       0       0     0      0     0        0        0     0     0       0  \n",
       "\n",
       "[5 rows x 459 columns]"
      ]
     },
     "execution_count": 53,
     "metadata": {},
     "output_type": "execute_result"
    }
   ],
   "source": [
    "bow_dic = list(set(bow_dic).intersection(set(BOW_df.columns)))\n",
    "BOW_df = BOW_df[bow_dic]\n",
    "BOW_df.index = X_train.index\n",
    "BOW_df.head()"
   ]
  },
  {
   "cell_type": "code",
   "execution_count": 56,
   "id": "aa7b02c5",
   "metadata": {},
   "outputs": [],
   "source": [
    "X_train_clean = pd.concat([X_train, BOW_df], axis=1)"
   ]
  },
  {
   "cell_type": "code",
   "execution_count": 57,
   "id": "6523b6e0",
   "metadata": {},
   "outputs": [],
   "source": [
    "X_train_clean = X_train_clean.drop('Review',axis = 1)"
   ]
  },
  {
   "cell_type": "code",
   "execution_count": 58,
   "id": "c0f205b1",
   "metadata": {},
   "outputs": [
    {
     "data": {
      "text/html": [
       "<div>\n",
       "<style scoped>\n",
       "    .dataframe tbody tr th:only-of-type {\n",
       "        vertical-align: middle;\n",
       "    }\n",
       "\n",
       "    .dataframe tbody tr th {\n",
       "        vertical-align: top;\n",
       "    }\n",
       "\n",
       "    .dataframe thead th {\n",
       "        text-align: right;\n",
       "    }\n",
       "</style>\n",
       "<table border=\"1\" class=\"dataframe\">\n",
       "  <thead>\n",
       "    <tr style=\"text-align: right;\">\n",
       "      <th></th>\n",
       "      <th>Useful</th>\n",
       "      <th>Cool</th>\n",
       "      <th>Funny</th>\n",
       "      <th>Bus_Ave_Star</th>\n",
       "      <th>User_Review_count</th>\n",
       "      <th>User_Useful_count</th>\n",
       "      <th>User_Funny_count</th>\n",
       "      <th>User_Cool_count</th>\n",
       "      <th>User_Fans</th>\n",
       "      <th>Users_Ave_Star</th>\n",
       "      <th>...</th>\n",
       "      <th>seat</th>\n",
       "      <th>regret</th>\n",
       "      <th>nice</th>\n",
       "      <th>great</th>\n",
       "      <th>must</th>\n",
       "      <th>definit</th>\n",
       "      <th>mexican</th>\n",
       "      <th>stop</th>\n",
       "      <th>drag</th>\n",
       "      <th>appeal</th>\n",
       "    </tr>\n",
       "  </thead>\n",
       "  <tbody>\n",
       "    <tr>\n",
       "      <th>8508</th>\n",
       "      <td>5</td>\n",
       "      <td>2</td>\n",
       "      <td>1</td>\n",
       "      <td>4.0</td>\n",
       "      <td>2100</td>\n",
       "      <td>5196</td>\n",
       "      <td>1852</td>\n",
       "      <td>3079</td>\n",
       "      <td>200</td>\n",
       "      <td>4.08</td>\n",
       "      <td>...</td>\n",
       "      <td>0</td>\n",
       "      <td>0</td>\n",
       "      <td>0</td>\n",
       "      <td>0</td>\n",
       "      <td>1</td>\n",
       "      <td>0</td>\n",
       "      <td>0</td>\n",
       "      <td>0</td>\n",
       "      <td>0</td>\n",
       "      <td>0</td>\n",
       "    </tr>\n",
       "    <tr>\n",
       "      <th>21610</th>\n",
       "      <td>0</td>\n",
       "      <td>0</td>\n",
       "      <td>0</td>\n",
       "      <td>4.0</td>\n",
       "      <td>195</td>\n",
       "      <td>208</td>\n",
       "      <td>50</td>\n",
       "      <td>70</td>\n",
       "      <td>7</td>\n",
       "      <td>4.05</td>\n",
       "      <td>...</td>\n",
       "      <td>0</td>\n",
       "      <td>0</td>\n",
       "      <td>1</td>\n",
       "      <td>0</td>\n",
       "      <td>0</td>\n",
       "      <td>0</td>\n",
       "      <td>0</td>\n",
       "      <td>0</td>\n",
       "      <td>0</td>\n",
       "      <td>0</td>\n",
       "    </tr>\n",
       "    <tr>\n",
       "      <th>9895</th>\n",
       "      <td>2</td>\n",
       "      <td>0</td>\n",
       "      <td>0</td>\n",
       "      <td>3.5</td>\n",
       "      <td>293</td>\n",
       "      <td>556</td>\n",
       "      <td>134</td>\n",
       "      <td>277</td>\n",
       "      <td>29</td>\n",
       "      <td>4.32</td>\n",
       "      <td>...</td>\n",
       "      <td>0</td>\n",
       "      <td>0</td>\n",
       "      <td>1</td>\n",
       "      <td>0</td>\n",
       "      <td>0</td>\n",
       "      <td>0</td>\n",
       "      <td>0</td>\n",
       "      <td>1</td>\n",
       "      <td>0</td>\n",
       "      <td>0</td>\n",
       "    </tr>\n",
       "    <tr>\n",
       "      <th>20283</th>\n",
       "      <td>0</td>\n",
       "      <td>1</td>\n",
       "      <td>0</td>\n",
       "      <td>4.5</td>\n",
       "      <td>1036</td>\n",
       "      <td>2667</td>\n",
       "      <td>1609</td>\n",
       "      <td>2075</td>\n",
       "      <td>105</td>\n",
       "      <td>4.01</td>\n",
       "      <td>...</td>\n",
       "      <td>0</td>\n",
       "      <td>0</td>\n",
       "      <td>0</td>\n",
       "      <td>0</td>\n",
       "      <td>0</td>\n",
       "      <td>0</td>\n",
       "      <td>0</td>\n",
       "      <td>0</td>\n",
       "      <td>0</td>\n",
       "      <td>0</td>\n",
       "    </tr>\n",
       "    <tr>\n",
       "      <th>936</th>\n",
       "      <td>1</td>\n",
       "      <td>1</td>\n",
       "      <td>2</td>\n",
       "      <td>4.0</td>\n",
       "      <td>217</td>\n",
       "      <td>665</td>\n",
       "      <td>353</td>\n",
       "      <td>352</td>\n",
       "      <td>56</td>\n",
       "      <td>3.71</td>\n",
       "      <td>...</td>\n",
       "      <td>0</td>\n",
       "      <td>0</td>\n",
       "      <td>0</td>\n",
       "      <td>0</td>\n",
       "      <td>0</td>\n",
       "      <td>0</td>\n",
       "      <td>0</td>\n",
       "      <td>0</td>\n",
       "      <td>0</td>\n",
       "      <td>0</td>\n",
       "    </tr>\n",
       "  </tbody>\n",
       "</table>\n",
       "<p>5 rows × 469 columns</p>\n",
       "</div>"
      ],
      "text/plain": [
       "       Useful  Cool  Funny  Bus_Ave_Star  User_Review_count  \\\n",
       "8508        5     2      1           4.0               2100   \n",
       "21610       0     0      0           4.0                195   \n",
       "9895        2     0      0           3.5                293   \n",
       "20283       0     1      0           4.5               1036   \n",
       "936         1     1      2           4.0                217   \n",
       "\n",
       "       User_Useful_count  User_Funny_count  User_Cool_count  User_Fans  \\\n",
       "8508                5196              1852             3079        200   \n",
       "21610                208                50               70          7   \n",
       "9895                 556               134              277         29   \n",
       "20283               2667              1609             2075        105   \n",
       "936                  665               353              352         56   \n",
       "\n",
       "       Users_Ave_Star  ...  seat  regret  nice  great  must  definit  mexican  \\\n",
       "8508             4.08  ...     0       0     0      0     1        0        0   \n",
       "21610            4.05  ...     0       0     1      0     0        0        0   \n",
       "9895             4.32  ...     0       0     1      0     0        0        0   \n",
       "20283            4.01  ...     0       0     0      0     0        0        0   \n",
       "936              3.71  ...     0       0     0      0     0        0        0   \n",
       "\n",
       "       stop  drag  appeal  \n",
       "8508      0     0       0  \n",
       "21610     0     0       0  \n",
       "9895      1     0       0  \n",
       "20283     0     0       0  \n",
       "936       0     0       0  \n",
       "\n",
       "[5 rows x 469 columns]"
      ]
     },
     "execution_count": 58,
     "metadata": {},
     "output_type": "execute_result"
    }
   ],
   "source": [
    "X_train_clean.head()"
   ]
  },
  {
   "cell_type": "code",
   "execution_count": 61,
   "id": "5145599a",
   "metadata": {},
   "outputs": [
    {
     "data": {
      "text/plain": [
       "8508     2.0\n",
       "21610    4.0\n",
       "9895     1.0\n",
       "20283    4.0\n",
       "936      5.0\n",
       "Name: Star, dtype: float64"
      ]
     },
     "execution_count": 61,
     "metadata": {},
     "output_type": "execute_result"
    }
   ],
   "source": [
    "Y_train.head()"
   ]
  },
  {
   "cell_type": "markdown",
   "id": "cc25f3db",
   "metadata": {},
   "source": [
    "### change thredshold? How to do train test in NMF?"
   ]
  },
  {
   "cell_type": "markdown",
   "id": "f7c181d8",
   "metadata": {},
   "source": [
    "# Feature Extraction"
   ]
  },
  {
   "cell_type": "markdown",
   "id": "77860f85",
   "metadata": {},
   "source": [
    "### LASSO\n",
    "https://medium.com/@sabarirajan.kumarappan/feature-selection-by-lasso-and-ridge-regression-python-code-examples-1e8ab451b94b"
   ]
  },
  {
   "cell_type": "code",
   "execution_count": 62,
   "id": "02c4d608",
   "metadata": {},
   "outputs": [],
   "source": [
    "sel_ = SelectFromModel(LogisticRegression(C=1, penalty='l1', solver='liblinear'))\n",
    "sel_.fit(X_train_clean, np.ravel(Y_train,order='C'))\n",
    "X_train_LSimportant = pd.DataFrame(X_train_clean)"
   ]
  },
  {
   "cell_type": "code",
   "execution_count": 63,
   "id": "35b4c024",
   "metadata": {},
   "outputs": [
    {
     "data": {
      "text/html": [
       "<div>\n",
       "<style scoped>\n",
       "    .dataframe tbody tr th:only-of-type {\n",
       "        vertical-align: middle;\n",
       "    }\n",
       "\n",
       "    .dataframe tbody tr th {\n",
       "        vertical-align: top;\n",
       "    }\n",
       "\n",
       "    .dataframe thead th {\n",
       "        text-align: right;\n",
       "    }\n",
       "</style>\n",
       "<table border=\"1\" class=\"dataframe\">\n",
       "  <thead>\n",
       "    <tr style=\"text-align: right;\">\n",
       "      <th></th>\n",
       "      <th>Useful</th>\n",
       "      <th>Cool</th>\n",
       "      <th>Funny</th>\n",
       "      <th>Bus_Ave_Star</th>\n",
       "      <th>User_Review_count</th>\n",
       "      <th>User_Useful_count</th>\n",
       "      <th>User_Funny_count</th>\n",
       "      <th>User_Cool_count</th>\n",
       "      <th>User_Fans</th>\n",
       "      <th>Users_Ave_Star</th>\n",
       "      <th>...</th>\n",
       "      <th>seat</th>\n",
       "      <th>regret</th>\n",
       "      <th>nice</th>\n",
       "      <th>great</th>\n",
       "      <th>must</th>\n",
       "      <th>definit</th>\n",
       "      <th>mexican</th>\n",
       "      <th>stop</th>\n",
       "      <th>drag</th>\n",
       "      <th>appeal</th>\n",
       "    </tr>\n",
       "  </thead>\n",
       "  <tbody>\n",
       "    <tr>\n",
       "      <th>8508</th>\n",
       "      <td>5</td>\n",
       "      <td>2</td>\n",
       "      <td>1</td>\n",
       "      <td>4.0</td>\n",
       "      <td>2100</td>\n",
       "      <td>5196</td>\n",
       "      <td>1852</td>\n",
       "      <td>3079</td>\n",
       "      <td>200</td>\n",
       "      <td>4.08</td>\n",
       "      <td>...</td>\n",
       "      <td>0</td>\n",
       "      <td>0</td>\n",
       "      <td>0</td>\n",
       "      <td>0</td>\n",
       "      <td>1</td>\n",
       "      <td>0</td>\n",
       "      <td>0</td>\n",
       "      <td>0</td>\n",
       "      <td>0</td>\n",
       "      <td>0</td>\n",
       "    </tr>\n",
       "    <tr>\n",
       "      <th>21610</th>\n",
       "      <td>0</td>\n",
       "      <td>0</td>\n",
       "      <td>0</td>\n",
       "      <td>4.0</td>\n",
       "      <td>195</td>\n",
       "      <td>208</td>\n",
       "      <td>50</td>\n",
       "      <td>70</td>\n",
       "      <td>7</td>\n",
       "      <td>4.05</td>\n",
       "      <td>...</td>\n",
       "      <td>0</td>\n",
       "      <td>0</td>\n",
       "      <td>1</td>\n",
       "      <td>0</td>\n",
       "      <td>0</td>\n",
       "      <td>0</td>\n",
       "      <td>0</td>\n",
       "      <td>0</td>\n",
       "      <td>0</td>\n",
       "      <td>0</td>\n",
       "    </tr>\n",
       "    <tr>\n",
       "      <th>9895</th>\n",
       "      <td>2</td>\n",
       "      <td>0</td>\n",
       "      <td>0</td>\n",
       "      <td>3.5</td>\n",
       "      <td>293</td>\n",
       "      <td>556</td>\n",
       "      <td>134</td>\n",
       "      <td>277</td>\n",
       "      <td>29</td>\n",
       "      <td>4.32</td>\n",
       "      <td>...</td>\n",
       "      <td>0</td>\n",
       "      <td>0</td>\n",
       "      <td>1</td>\n",
       "      <td>0</td>\n",
       "      <td>0</td>\n",
       "      <td>0</td>\n",
       "      <td>0</td>\n",
       "      <td>1</td>\n",
       "      <td>0</td>\n",
       "      <td>0</td>\n",
       "    </tr>\n",
       "    <tr>\n",
       "      <th>20283</th>\n",
       "      <td>0</td>\n",
       "      <td>1</td>\n",
       "      <td>0</td>\n",
       "      <td>4.5</td>\n",
       "      <td>1036</td>\n",
       "      <td>2667</td>\n",
       "      <td>1609</td>\n",
       "      <td>2075</td>\n",
       "      <td>105</td>\n",
       "      <td>4.01</td>\n",
       "      <td>...</td>\n",
       "      <td>0</td>\n",
       "      <td>0</td>\n",
       "      <td>0</td>\n",
       "      <td>0</td>\n",
       "      <td>0</td>\n",
       "      <td>0</td>\n",
       "      <td>0</td>\n",
       "      <td>0</td>\n",
       "      <td>0</td>\n",
       "      <td>0</td>\n",
       "    </tr>\n",
       "    <tr>\n",
       "      <th>936</th>\n",
       "      <td>1</td>\n",
       "      <td>1</td>\n",
       "      <td>2</td>\n",
       "      <td>4.0</td>\n",
       "      <td>217</td>\n",
       "      <td>665</td>\n",
       "      <td>353</td>\n",
       "      <td>352</td>\n",
       "      <td>56</td>\n",
       "      <td>3.71</td>\n",
       "      <td>...</td>\n",
       "      <td>0</td>\n",
       "      <td>0</td>\n",
       "      <td>0</td>\n",
       "      <td>0</td>\n",
       "      <td>0</td>\n",
       "      <td>0</td>\n",
       "      <td>0</td>\n",
       "      <td>0</td>\n",
       "      <td>0</td>\n",
       "      <td>0</td>\n",
       "    </tr>\n",
       "    <tr>\n",
       "      <th>...</th>\n",
       "      <td>...</td>\n",
       "      <td>...</td>\n",
       "      <td>...</td>\n",
       "      <td>...</td>\n",
       "      <td>...</td>\n",
       "      <td>...</td>\n",
       "      <td>...</td>\n",
       "      <td>...</td>\n",
       "      <td>...</td>\n",
       "      <td>...</td>\n",
       "      <td>...</td>\n",
       "      <td>...</td>\n",
       "      <td>...</td>\n",
       "      <td>...</td>\n",
       "      <td>...</td>\n",
       "      <td>...</td>\n",
       "      <td>...</td>\n",
       "      <td>...</td>\n",
       "      <td>...</td>\n",
       "      <td>...</td>\n",
       "      <td>...</td>\n",
       "    </tr>\n",
       "    <tr>\n",
       "      <th>8887</th>\n",
       "      <td>0</td>\n",
       "      <td>0</td>\n",
       "      <td>0</td>\n",
       "      <td>3.5</td>\n",
       "      <td>231</td>\n",
       "      <td>169</td>\n",
       "      <td>34</td>\n",
       "      <td>22</td>\n",
       "      <td>1</td>\n",
       "      <td>3.47</td>\n",
       "      <td>...</td>\n",
       "      <td>0</td>\n",
       "      <td>0</td>\n",
       "      <td>0</td>\n",
       "      <td>0</td>\n",
       "      <td>0</td>\n",
       "      <td>0</td>\n",
       "      <td>0</td>\n",
       "      <td>0</td>\n",
       "      <td>0</td>\n",
       "      <td>0</td>\n",
       "    </tr>\n",
       "    <tr>\n",
       "      <th>18716</th>\n",
       "      <td>0</td>\n",
       "      <td>0</td>\n",
       "      <td>0</td>\n",
       "      <td>4.0</td>\n",
       "      <td>443</td>\n",
       "      <td>492</td>\n",
       "      <td>281</td>\n",
       "      <td>225</td>\n",
       "      <td>27</td>\n",
       "      <td>3.81</td>\n",
       "      <td>...</td>\n",
       "      <td>1</td>\n",
       "      <td>0</td>\n",
       "      <td>0</td>\n",
       "      <td>0</td>\n",
       "      <td>0</td>\n",
       "      <td>0</td>\n",
       "      <td>0</td>\n",
       "      <td>0</td>\n",
       "      <td>0</td>\n",
       "      <td>0</td>\n",
       "    </tr>\n",
       "    <tr>\n",
       "      <th>28554</th>\n",
       "      <td>0</td>\n",
       "      <td>0</td>\n",
       "      <td>0</td>\n",
       "      <td>4.0</td>\n",
       "      <td>1535</td>\n",
       "      <td>1889</td>\n",
       "      <td>824</td>\n",
       "      <td>1912</td>\n",
       "      <td>23</td>\n",
       "      <td>3.85</td>\n",
       "      <td>...</td>\n",
       "      <td>0</td>\n",
       "      <td>0</td>\n",
       "      <td>0</td>\n",
       "      <td>0</td>\n",
       "      <td>0</td>\n",
       "      <td>0</td>\n",
       "      <td>0</td>\n",
       "      <td>0</td>\n",
       "      <td>0</td>\n",
       "      <td>0</td>\n",
       "    </tr>\n",
       "    <tr>\n",
       "      <th>18007</th>\n",
       "      <td>0</td>\n",
       "      <td>0</td>\n",
       "      <td>0</td>\n",
       "      <td>4.0</td>\n",
       "      <td>404</td>\n",
       "      <td>430</td>\n",
       "      <td>99</td>\n",
       "      <td>193</td>\n",
       "      <td>23</td>\n",
       "      <td>3.80</td>\n",
       "      <td>...</td>\n",
       "      <td>0</td>\n",
       "      <td>0</td>\n",
       "      <td>0</td>\n",
       "      <td>1</td>\n",
       "      <td>0</td>\n",
       "      <td>1</td>\n",
       "      <td>0</td>\n",
       "      <td>0</td>\n",
       "      <td>0</td>\n",
       "      <td>0</td>\n",
       "    </tr>\n",
       "    <tr>\n",
       "      <th>17116</th>\n",
       "      <td>12</td>\n",
       "      <td>11</td>\n",
       "      <td>12</td>\n",
       "      <td>4.5</td>\n",
       "      <td>631</td>\n",
       "      <td>3754</td>\n",
       "      <td>3685</td>\n",
       "      <td>3382</td>\n",
       "      <td>122</td>\n",
       "      <td>3.65</td>\n",
       "      <td>...</td>\n",
       "      <td>0</td>\n",
       "      <td>0</td>\n",
       "      <td>1</td>\n",
       "      <td>0</td>\n",
       "      <td>0</td>\n",
       "      <td>0</td>\n",
       "      <td>0</td>\n",
       "      <td>0</td>\n",
       "      <td>0</td>\n",
       "      <td>0</td>\n",
       "    </tr>\n",
       "  </tbody>\n",
       "</table>\n",
       "<p>43076 rows × 469 columns</p>\n",
       "</div>"
      ],
      "text/plain": [
       "       Useful  Cool  Funny  Bus_Ave_Star  User_Review_count  \\\n",
       "8508        5     2      1           4.0               2100   \n",
       "21610       0     0      0           4.0                195   \n",
       "9895        2     0      0           3.5                293   \n",
       "20283       0     1      0           4.5               1036   \n",
       "936         1     1      2           4.0                217   \n",
       "...       ...   ...    ...           ...                ...   \n",
       "8887        0     0      0           3.5                231   \n",
       "18716       0     0      0           4.0                443   \n",
       "28554       0     0      0           4.0               1535   \n",
       "18007       0     0      0           4.0                404   \n",
       "17116      12    11     12           4.5                631   \n",
       "\n",
       "       User_Useful_count  User_Funny_count  User_Cool_count  User_Fans  \\\n",
       "8508                5196              1852             3079        200   \n",
       "21610                208                50               70          7   \n",
       "9895                 556               134              277         29   \n",
       "20283               2667              1609             2075        105   \n",
       "936                  665               353              352         56   \n",
       "...                  ...               ...              ...        ...   \n",
       "8887                 169                34               22          1   \n",
       "18716                492               281              225         27   \n",
       "28554               1889               824             1912         23   \n",
       "18007                430                99              193         23   \n",
       "17116               3754              3685             3382        122   \n",
       "\n",
       "       Users_Ave_Star  ...  seat  regret  nice  great  must  definit  mexican  \\\n",
       "8508             4.08  ...     0       0     0      0     1        0        0   \n",
       "21610            4.05  ...     0       0     1      0     0        0        0   \n",
       "9895             4.32  ...     0       0     1      0     0        0        0   \n",
       "20283            4.01  ...     0       0     0      0     0        0        0   \n",
       "936              3.71  ...     0       0     0      0     0        0        0   \n",
       "...               ...  ...   ...     ...   ...    ...   ...      ...      ...   \n",
       "8887             3.47  ...     0       0     0      0     0        0        0   \n",
       "18716            3.81  ...     1       0     0      0     0        0        0   \n",
       "28554            3.85  ...     0       0     0      0     0        0        0   \n",
       "18007            3.80  ...     0       0     0      1     0        1        0   \n",
       "17116            3.65  ...     0       0     1      0     0        0        0   \n",
       "\n",
       "       stop  drag  appeal  \n",
       "8508      0     0       0  \n",
       "21610     0     0       0  \n",
       "9895      1     0       0  \n",
       "20283     0     0       0  \n",
       "936       0     0       0  \n",
       "...     ...   ...     ...  \n",
       "8887      0     0       0  \n",
       "18716     0     0       0  \n",
       "28554     0     0       0  \n",
       "18007     0     0       0  \n",
       "17116     0     0       0  \n",
       "\n",
       "[43076 rows x 469 columns]"
      ]
     },
     "execution_count": 63,
     "metadata": {},
     "output_type": "execute_result"
    }
   ],
   "source": [
    "X_train_LSimportant"
   ]
  },
  {
   "cell_type": "code",
   "execution_count": 64,
   "id": "4bbf5c19",
   "metadata": {},
   "outputs": [
    {
     "data": {
      "text/plain": [
       "Index(['Useful', 'Cool', 'Funny', 'Bus_Ave_Star', 'User_Review_count',\n",
       "       'User_Useful_count', 'User_Funny_count', 'User_Cool_count', 'User_Fans',\n",
       "       'Users_Ave_Star',\n",
       "       ...\n",
       "       'seat', 'regret', 'nice', 'great', 'must', 'definit', 'mexican', 'stop',\n",
       "       'drag', 'appeal'],\n",
       "      dtype='object', length=469)"
      ]
     },
     "execution_count": 64,
     "metadata": {},
     "output_type": "execute_result"
    }
   ],
   "source": [
    "selected_feat = X_train_clean.columns[(sel_.get_support())]\n",
    "selected_feat"
   ]
  },
  {
   "cell_type": "code",
   "execution_count": 65,
   "id": "e266c215",
   "metadata": {},
   "outputs": [
    {
     "name": "stdout",
     "output_type": "stream",
     "text": [
      "total features: 469\n",
      "selected features: 469\n",
      "features with coefficients shrank to zero: 135\n"
     ]
    }
   ],
   "source": [
    "print('total features: {}'.format((X_train_clean.shape[1])))\n",
    "print('selected features: {}'.format(len(selected_feat)))\n",
    "print('features with coefficients shrank to zero: {}'.format(\n",
    "np.sum(sel_.estimator_.coef_ == 0)))"
   ]
  },
  {
   "cell_type": "code",
   "execution_count": 68,
   "id": "96d5d49f",
   "metadata": {},
   "outputs": [
    {
     "data": {
      "text/plain": [
       "(5, 469)"
      ]
     },
     "execution_count": 68,
     "metadata": {},
     "output_type": "execute_result"
    }
   ],
   "source": [
    "sel_.estimator_.coef_"
   ]
  },
  {
   "cell_type": "code",
   "execution_count": 78,
   "id": "19c10ae6",
   "metadata": {},
   "outputs": [
    {
     "data": {
      "text/plain": [
       "array([[ 0.15081932, -0.42096425,  0.25887656, ...,  0.02877641,\n",
       "         0.29895573,  0.        ],\n",
       "       [ 0.06097415, -0.20987084,  0.13036157, ..., -0.17242763,\n",
       "         0.        ,  0.        ],\n",
       "       [-0.00253121, -0.06038897,  0.06708031, ..., -0.01995372,\n",
       "         0.        ,  0.03173867],\n",
       "       [-0.10940837,  0.10969511,  0.00895483, ..., -0.01280754,\n",
       "         0.06475195, -0.01206696],\n",
       "       [ 0.00140969,  0.06637186, -0.09748529, ...,  0.03981104,\n",
       "         0.07200222, -0.0545027 ]])"
      ]
     },
     "execution_count": 78,
     "metadata": {},
     "output_type": "execute_result"
    }
   ],
   "source": [
    "sel_.estimator_.coef_"
   ]
  },
  {
   "cell_type": "code",
   "execution_count": 79,
   "id": "5cc36950",
   "metadata": {},
   "outputs": [],
   "source": [
    "ave_estimators = (sel_.estimator_.coef_[0] + sel_.estimator_.coef_[1] + sel_.estimator_.coef_[2] +sel_.estimator_.coef_[3]+sel_.estimator_.coef_[4])/5 "
   ]
  },
  {
   "cell_type": "code",
   "execution_count": 80,
   "id": "677fca22",
   "metadata": {},
   "outputs": [
    {
     "data": {
      "text/plain": [
       "array([ 2.02527170e-02, -1.03031420e-01,  7.35575966e-02, -1.97486844e-01,\n",
       "       -1.97348523e-04,  4.93914631e-05, -4.12329762e-05, -1.75647704e-05,\n",
       "       -2.98869097e-05, -2.76724692e-01,  3.62722003e-02,  4.02312784e-02,\n",
       "        6.40045090e-02, -4.71930694e-02,  7.86360406e-03, -3.75885717e-02,\n",
       "        1.32863251e-01,  9.65006607e-02, -2.32680392e-02, -1.24160875e-01,\n",
       "       -1.49856701e-02, -6.96047672e-02, -3.39741231e-01,  1.96098713e-02,\n",
       "       -1.42727677e-01, -3.94029559e-02, -9.30384354e-03, -2.26282985e-02,\n",
       "       -3.54304716e-03, -1.00730752e-01, -1.39193423e-01,  3.57783119e-02,\n",
       "       -5.30166876e-02, -2.69235383e-01,  1.96859162e-02, -4.04330481e-01,\n",
       "        6.05633416e-02, -1.52403110e-01, -2.07842015e-02,  2.55860012e-03,\n",
       "        3.09904973e-02, -1.10441804e-01,  8.99678138e-03, -1.92165076e-02,\n",
       "       -2.03511839e-02, -1.06620978e-02,  2.44517090e-03, -5.36600061e-02,\n",
       "       -2.03833948e-02,  1.10876081e-01, -9.75750934e-02,  2.11886939e-02,\n",
       "       -5.90634774e-02,  2.06841091e-02,  1.66633421e-01, -1.56515468e-02,\n",
       "        1.29441150e-02, -2.51394626e-04,  6.43412864e-02, -1.10917569e-01,\n",
       "       -5.16872278e-02,  1.00321107e-03, -5.93899673e-02, -5.11339493e-02,\n",
       "       -5.06576676e-02, -5.81595528e-03, -2.15791592e-02, -1.29792438e-02,\n",
       "        2.66731959e-02, -3.76441195e-02,  3.25169709e-02,  6.17552968e-02,\n",
       "       -7.93811846e-02, -3.69827686e-02,  1.47303407e-02, -1.98157378e-02,\n",
       "       -1.50758821e-02, -2.81718977e-01, -1.13340274e-01, -9.51996368e-03,\n",
       "       -1.93135703e-01, -2.24188838e-02,  1.33692311e-02, -7.71019195e-02,\n",
       "        2.52079007e-02, -3.34953023e-02, -2.20060078e-01, -1.38523609e-02,\n",
       "       -1.69370617e-02, -1.35509686e-01,  5.50505887e-02, -1.88384625e-02,\n",
       "        2.30377259e-02,  5.43384423e-02, -8.82861158e-03, -2.54037912e-01,\n",
       "        4.56943498e-02, -6.04082529e-02,  2.58236098e-02,  9.74891544e-03,\n",
       "       -7.90471427e-02,  4.76216151e-02, -5.98951061e-02,  2.35663398e-03,\n",
       "        9.95213658e-02, -6.73255891e-02,  5.54751631e-03,  3.27640416e-02,\n",
       "       -2.05014274e-03, -3.34677112e-02, -5.52314846e-02,  6.66980354e-02,\n",
       "       -3.04018124e-03,  3.78937441e-02, -1.45803666e-01, -4.76236185e-01,\n",
       "       -1.68506615e-01, -3.42571983e-01,  1.19227856e-02, -6.02094763e-02,\n",
       "        4.51281330e-02, -1.54949291e-02,  4.26203438e-02, -7.00863267e-02,\n",
       "       -1.00680287e-01,  3.01257860e-02, -2.34835881e-03,  7.08334050e-02,\n",
       "       -4.61913117e-02,  1.66727023e-02, -3.33843878e-02, -3.97398875e-02,\n",
       "        2.05872092e-02,  3.78189833e-02,  3.60386459e-02, -1.47093596e-02,\n",
       "       -1.97886088e-01,  1.79431546e-02, -3.63078357e-01, -2.37449395e-02,\n",
       "       -2.71961581e-03, -4.98989518e-02, -2.32268238e-02,  3.47898983e-02,\n",
       "        3.42632134e-03, -8.80547571e-03, -4.65030341e-03,  4.00420538e-02,\n",
       "        3.58059778e-02, -1.18267166e-02,  2.68363984e-02,  6.48268969e-02,\n",
       "       -1.46487878e-01,  7.73802201e-02, -1.79894340e-01, -4.33633121e-02,\n",
       "       -1.74945275e-01,  9.91785552e-03, -9.69742830e-02, -1.22301395e-01,\n",
       "        4.63922337e-03,  2.84922195e-02, -4.34823106e-01, -1.50426932e-01,\n",
       "       -1.11437101e-01, -5.99221976e-02, -2.59401525e-02,  1.78525738e-02,\n",
       "       -4.21599230e-02, -3.30750504e-02, -6.00477333e-02,  7.84698628e-04,\n",
       "       -1.37242280e-02, -1.34808805e-03,  1.50945350e-02, -5.63329575e-02,\n",
       "        3.10809312e-02, -2.53922822e-02, -2.53020605e-02,  6.90090665e-02,\n",
       "       -3.77841524e-02, -2.50029826e-01, -1.65757501e-01,  5.41955336e-02,\n",
       "       -2.17522433e-02,  3.17605851e-02, -1.52727607e-02, -7.31418592e-02,\n",
       "       -1.11997415e-01, -2.92519636e-01,  1.36433534e-02, -6.38379700e-02,\n",
       "       -9.37015162e-02,  1.62917271e-02, -1.88954570e-02, -3.27752506e-02,\n",
       "       -4.37931402e-02,  4.81534656e-02, -1.59160313e-02,  2.64917952e-02,\n",
       "       -3.66749893e-02, -4.69949098e-02,  1.09705342e-01, -1.40099933e-02,\n",
       "        2.36476892e-02,  3.12803806e-02, -2.35899917e-03,  2.72423090e-02,\n",
       "        4.88372616e-02,  8.80141490e-04, -4.27221001e-02, -4.98611946e-01,\n",
       "       -1.36809992e-01, -1.88156538e-02, -4.75645423e-02, -7.49288547e-02,\n",
       "       -1.75998702e-01, -1.98042820e-02, -1.26527161e-01,  7.71910879e-02,\n",
       "       -3.88674254e-02, -1.36617190e-03,  3.16616672e-02,  1.05717412e-02,\n",
       "       -1.37571519e-02,  6.15509744e-02, -2.22157207e-01,  1.11066490e-02,\n",
       "       -3.47650496e-02, -6.89257547e-02, -2.43744719e-01, -6.08778721e-02,\n",
       "       -9.21231906e-02, -1.09995756e-01, -3.52197631e-01,  7.56651832e-02,\n",
       "       -6.80740009e-02,  2.52909150e-02,  6.94847194e-02, -1.44907386e-01,\n",
       "       -3.06322410e-02, -2.02541957e-02,  3.34174918e-05,  3.93096128e-02,\n",
       "        3.24628101e-02, -1.33126573e-02,  7.71334613e-03, -1.16556408e-02,\n",
       "        2.52657638e-02,  9.07341888e-03,  9.54358442e-02, -4.92400675e-01,\n",
       "        2.21317294e-02,  1.66230090e-02, -3.18042149e-02,  3.92729886e-02,\n",
       "       -4.92316219e-02,  7.87499285e-02, -7.76817766e-02, -5.59645404e-02,\n",
       "       -3.73660867e-02, -7.49671169e-01, -3.26162322e-02,  1.83194351e-02,\n",
       "       -2.82687107e-01,  2.38671090e-02, -4.33538381e-02, -8.15501621e-02,\n",
       "       -1.78468272e-02, -1.37310970e-01, -6.56684361e-02, -1.47615205e-01,\n",
       "       -6.28723793e-02, -2.76565375e-03, -5.08195077e-02, -3.22738192e-02,\n",
       "       -3.37223784e-02, -1.07891884e-02,  5.81570031e-02, -3.89412807e-03,\n",
       "       -1.52146913e-01,  6.91864321e-02, -2.42786580e-02, -3.00666157e-01,\n",
       "       -5.79549876e-02, -2.71666220e-02,  5.16367964e-02, -7.95588784e-02,\n",
       "       -1.10530198e-01,  1.69075687e-02,  1.12650511e-01, -4.24541925e-02,\n",
       "        3.94424746e-02, -2.86144603e-01,  2.68246572e-03,  1.76148090e-02,\n",
       "       -6.12176492e-03, -1.98751180e-02, -1.80094740e-02, -1.09958896e-02,\n",
       "       -1.28511051e-01, -3.40550337e-02,  3.13973838e-02, -1.92116872e-02,\n",
       "        3.14894404e-02, -2.47496472e-01, -1.56444665e-02,  2.67375369e-02,\n",
       "       -1.93225079e-02,  2.19012127e-02, -7.52800590e-02,  8.10008971e-03,\n",
       "       -2.90974053e-02,  1.04632703e-03, -3.47014492e-02,  1.46411421e-02,\n",
       "       -2.17314099e-02, -1.08791782e-03, -4.57616422e-02, -9.74507075e-03,\n",
       "        3.30446169e-02, -1.52826886e-01, -5.42129338e-03,  2.40956872e-02,\n",
       "        6.44933669e-02, -2.05721761e-01,  4.64002354e-02,  1.75494688e-02,\n",
       "        3.70816090e-02, -4.20471485e-02, -1.29372691e-02,  1.79775404e-03,\n",
       "        7.42092153e-02, -1.06060414e-02, -7.54588688e-04, -3.71060669e-02,\n",
       "        2.84319940e-02,  1.70820926e-02,  1.75897538e-02, -2.26101691e-02,\n",
       "       -3.94259410e-01, -4.07213050e-03, -3.03241176e-02, -2.82934998e-02,\n",
       "       -1.24379196e-01, -1.42376139e-01,  1.88551376e-02,  1.35029983e-01,\n",
       "       -4.43016124e-02, -2.36243314e-03, -1.39602094e-01, -9.62089621e-02,\n",
       "       -9.10902829e-02,  2.24668495e-02, -5.27203093e-02, -6.00986253e-03,\n",
       "       -3.92299240e-02, -6.10621605e-02,  7.70472761e-03, -8.29754724e-02,\n",
       "       -6.25667835e-02, -6.51355177e-02, -1.35784439e-02,  3.57053446e-02,\n",
       "        2.65485975e-02, -2.12437360e-02, -4.90685820e-02, -5.20084078e-03,\n",
       "       -7.59688121e-02, -1.14613868e-02, -1.10137610e-02, -5.70339254e-03,\n",
       "        9.44993976e-02, -2.36570159e-02, -4.61734850e-02, -1.86549214e-01,\n",
       "       -1.58194113e-02, -1.87470790e-02,  5.78203576e-02,  6.06835629e-02,\n",
       "        2.41887575e-03, -4.37581845e-01, -1.11167936e-01,  8.24871282e-02,\n",
       "        9.87268088e-02, -1.28278444e-01, -1.90167914e-02,  2.57581584e-02,\n",
       "       -1.62383067e-02, -1.51034774e-02, -5.70469835e-02,  2.84000722e-02,\n",
       "       -4.35787848e-02,  1.81150076e-03,  1.10658446e-01,  7.51169940e-02,\n",
       "       -1.71339623e-02, -1.20906335e-03, -1.55070174e-01, -2.91385816e-02,\n",
       "       -1.58309641e-02,  8.55648272e-03, -7.96862499e-02, -6.29835890e-02,\n",
       "       -6.25635713e-02, -1.32025120e-02, -9.14106720e-02, -3.31114482e-02,\n",
       "       -6.00238986e-02, -9.48782246e-03,  4.04700739e-02,  1.96568917e-02,\n",
       "       -2.37770222e-02, -2.43915033e-03,  3.98099492e-02,  6.50549829e-03,\n",
       "       -8.81211772e-02, -3.88646718e-02, -4.65222892e-02, -1.87487598e-02,\n",
       "        4.95915336e-03,  2.44568054e-02, -7.92364407e-02,  1.45696840e-01,\n",
       "        5.33263386e-02, -2.50049982e-02,  1.75578317e-02, -8.36442557e-02,\n",
       "        3.34808035e-02,  1.88765128e-02,  1.31858527e-02,  1.32468082e-02,\n",
       "       -7.18453942e-02, -3.60329416e-01,  4.13893951e-02, -8.92018975e-03,\n",
       "       -1.82658804e-02, -1.21194165e-01,  3.48421746e-02, -4.12990657e-01,\n",
       "       -2.20012489e-03,  3.62739906e-03,  1.82800227e-02, -2.27492826e-02,\n",
       "       -9.19981174e-04, -3.78423089e-02, -1.10792290e-03, -1.31934831e-01,\n",
       "       -1.52636829e-02, -2.21315422e-02, -6.94580001e-02, -2.77282840e-01,\n",
       "       -1.61386745e-02,  2.31903074e-03, -2.91735053e-03,  2.39755119e-02,\n",
       "       -2.60723468e-03, -5.81941529e-04, -9.72735092e-02, -4.34181588e-02,\n",
       "       -1.18133315e-02, -7.18051328e-02, -1.80801860e-01, -2.82141017e-02,\n",
       "       -1.39717767e-01,  6.64698845e-03, -2.73202876e-02,  8.71419813e-02,\n",
       "       -6.96619849e-03])"
      ]
     },
     "execution_count": 80,
     "metadata": {},
     "output_type": "execute_result"
    }
   ],
   "source": [
    "ave_estimators"
   ]
  },
  {
   "cell_type": "code",
   "execution_count": 81,
   "id": "6bcd8eb7",
   "metadata": {},
   "outputs": [],
   "source": [
    "LS_importance = pd.DataFrame(ave_estimators)\n",
    "LS_importance.index = X_train_clean.columns\n",
    "LS_importance.columns =  [\"Importance\"]\n",
    "LS_importance['Importance abs'] = abs(ave_estimators)\n",
    "LS_importance = LS_importance.sort_values(by=['Importance abs'],ascending = False)"
   ]
  },
  {
   "cell_type": "code",
   "execution_count": 84,
   "id": "aa670382",
   "metadata": {},
   "outputs": [
    {
     "data": {
      "text/html": [
       "<div>\n",
       "<style scoped>\n",
       "    .dataframe tbody tr th:only-of-type {\n",
       "        vertical-align: middle;\n",
       "    }\n",
       "\n",
       "    .dataframe tbody tr th {\n",
       "        vertical-align: top;\n",
       "    }\n",
       "\n",
       "    .dataframe thead th {\n",
       "        text-align: right;\n",
       "    }\n",
       "</style>\n",
       "<table border=\"1\" class=\"dataframe\">\n",
       "  <thead>\n",
       "    <tr style=\"text-align: right;\">\n",
       "      <th></th>\n",
       "      <th>Importance</th>\n",
       "      <th>Importance abs</th>\n",
       "    </tr>\n",
       "  </thead>\n",
       "  <tbody>\n",
       "    <tr>\n",
       "      <th>heaven</th>\n",
       "      <td>-0.749671</td>\n",
       "      <td>0.749671</td>\n",
       "    </tr>\n",
       "    <tr>\n",
       "      <th>superb</th>\n",
       "      <td>-0.498612</td>\n",
       "      <td>0.498612</td>\n",
       "    </tr>\n",
       "    <tr>\n",
       "      <th>delici</th>\n",
       "      <td>-0.492401</td>\n",
       "      <td>0.492401</td>\n",
       "    </tr>\n",
       "    <tr>\n",
       "      <th>solid</th>\n",
       "      <td>-0.476236</td>\n",
       "      <td>0.476236</td>\n",
       "    </tr>\n",
       "    <tr>\n",
       "      <th>gem</th>\n",
       "      <td>-0.437582</td>\n",
       "      <td>0.437582</td>\n",
       "    </tr>\n",
       "    <tr>\n",
       "      <th>...</th>\n",
       "      <td>...</td>\n",
       "      <td>...</td>\n",
       "    </tr>\n",
       "    <tr>\n",
       "      <th>User_Useful_count</th>\n",
       "      <td>0.000049</td>\n",
       "      <td>0.000049</td>\n",
       "    </tr>\n",
       "    <tr>\n",
       "      <th>User_Funny_count</th>\n",
       "      <td>-0.000041</td>\n",
       "      <td>0.000041</td>\n",
       "    </tr>\n",
       "    <tr>\n",
       "      <th>angel</th>\n",
       "      <td>0.000033</td>\n",
       "      <td>0.000033</td>\n",
       "    </tr>\n",
       "    <tr>\n",
       "      <th>User_Fans</th>\n",
       "      <td>-0.000030</td>\n",
       "      <td>0.000030</td>\n",
       "    </tr>\n",
       "    <tr>\n",
       "      <th>User_Cool_count</th>\n",
       "      <td>-0.000018</td>\n",
       "      <td>0.000018</td>\n",
       "    </tr>\n",
       "  </tbody>\n",
       "</table>\n",
       "<p>469 rows × 2 columns</p>\n",
       "</div>"
      ],
      "text/plain": [
       "                   Importance  Importance abs\n",
       "heaven              -0.749671        0.749671\n",
       "superb              -0.498612        0.498612\n",
       "delici              -0.492401        0.492401\n",
       "solid               -0.476236        0.476236\n",
       "gem                 -0.437582        0.437582\n",
       "...                       ...             ...\n",
       "User_Useful_count    0.000049        0.000049\n",
       "User_Funny_count    -0.000041        0.000041\n",
       "angel                0.000033        0.000033\n",
       "User_Fans           -0.000030        0.000030\n",
       "User_Cool_count     -0.000018        0.000018\n",
       "\n",
       "[469 rows x 2 columns]"
      ]
     },
     "execution_count": 84,
     "metadata": {},
     "output_type": "execute_result"
    }
   ],
   "source": [
    "LS_importance"
   ]
  },
  {
   "cell_type": "code",
   "execution_count": 95,
   "id": "d174a7b8",
   "metadata": {},
   "outputs": [
    {
     "data": {
      "text/plain": [
       "<Figure size 14400x21600 with 0 Axes>"
      ]
     },
     "execution_count": 95,
     "metadata": {},
     "output_type": "execute_result"
    },
    {
     "data": {
      "image/png": "[encoded data removed]",
      "text/plain": [
       "<Figure size 432x288 with 1 Axes>"
      ]
     },
     "metadata": {
      "needs_background": "light"
     },
     "output_type": "display_data"
    },
    {
     "data": {
      "text/plain": [
       "<Figure size 14400x21600 with 0 Axes>"
      ]
     },
     "metadata": {},
     "output_type": "display_data"
    }
   ],
   "source": [
    "sns.barplot(x = LS_importance[0:30].index ,y=LS_importance[0:30]['Importance abs'])\n",
    "plt.xticks(rotation = 80)\n",
    "plt.figure(figsize = (200,300))"
   ]
  },
  {
   "cell_type": "code",
   "execution_count": 100,
   "id": "9e25841b",
   "metadata": {},
   "outputs": [],
   "source": [
    "X_train_LSimportant = X_train_clean[X_train_clean.columns[abs(ave_estimators) >= 0.001]]"
   ]
  },
  {
   "cell_type": "code",
   "execution_count": 101,
   "id": "d6634a3e",
   "metadata": {},
   "outputs": [
    {
     "data": {
      "text/plain": [
       "Index(['Useful', 'Cool', 'Funny', 'Bus_Ave_Star', 'Users_Ave_Star', 'open',\n",
       "       'sinc', 'bore', 'safe', 'egg',\n",
       "       ...\n",
       "       'seat', 'regret', 'nice', 'great', 'must', 'definit', 'mexican', 'stop',\n",
       "       'drag', 'appeal'],\n",
       "      dtype='object', length=457)"
      ]
     },
     "execution_count": 101,
     "metadata": {},
     "output_type": "execute_result"
    }
   ],
   "source": [
    "X_train_LSimportant.columns"
   ]
  },
  {
   "cell_type": "markdown",
   "id": "7672bf1b",
   "metadata": {},
   "source": [
    "The thredshold set for Lasso is 1e-3"
   ]
  },
  {
   "cell_type": "markdown",
   "id": "6a8f1f06",
   "metadata": {},
   "source": [
    "### RF - feature_importance"
   ]
  },
  {
   "cell_type": "code",
   "execution_count": 106,
   "id": "7a7b3d7d",
   "metadata": {},
   "outputs": [],
   "source": [
    "from sklearn.ensemble import RandomForestRegressor\n",
    "from sklearn.inspection import permutation_importance"
   ]
  },
  {
   "cell_type": "code",
   "execution_count": 107,
   "id": "02cd3214",
   "metadata": {},
   "outputs": [],
   "source": [
    "rf = RandomForestRegressor(n_estimators=100)"
   ]
  },
  {
   "cell_type": "code",
   "execution_count": 108,
   "id": "9d871600",
   "metadata": {
    "scrolled": true
   },
   "outputs": [
    {
     "data": {
      "text/plain": [
       "RandomForestRegressor()"
      ]
     },
     "execution_count": 108,
     "metadata": {},
     "output_type": "execute_result"
    }
   ],
   "source": [
    "rf.fit(X_train_clean, Y_train)"
   ]
  },
  {
   "cell_type": "code",
   "execution_count": 109,
   "id": "eee04007",
   "metadata": {
    "scrolled": true
   },
   "outputs": [
    {
     "data": {
      "text/plain": [
       "array([1.11258368e-02, 9.90792676e-03, 7.97938005e-03, 1.28016949e-01,\n",
       "       2.20556762e-02, 1.44563180e-02, 1.43661337e-02, 1.44415170e-02,\n",
       "       1.44229301e-02, 1.06447926e-01, 1.37981321e-03, 1.41945553e-03,\n",
       "       6.31346343e-04, 2.13993943e-04, 8.73274735e-04, 1.05691428e-03,\n",
       "       3.04383025e-04, 1.63306341e-04, 2.82013957e-03, 1.22725410e-03,\n",
       "       3.65841444e-04, 9.59042286e-04, 8.34547899e-03, 3.47695852e-03,\n",
       "       2.84061116e-03, 8.66855798e-04, 1.65050060e-03, 9.86330324e-04,\n",
       "       7.93320458e-04, 1.25232486e-04, 1.46414547e-04, 9.80431141e-04,\n",
       "       1.10473132e-03, 2.08660035e-03, 1.88600919e-04, 1.01808178e-04,\n",
       "       8.23295590e-04, 3.39077377e-03, 7.37478370e-04, 1.22581770e-03,\n",
       "       9.99310847e-03, 5.99765259e-04, 2.02645787e-03, 7.78166008e-04,\n",
       "       1.65298481e-03, 6.81618879e-04, 3.43485021e-03, 2.59925450e-04,\n",
       "       6.01086680e-04, 9.26665632e-05, 1.58109334e-03, 1.86815732e-03,\n",
       "       1.25953108e-03, 1.16592186e-03, 6.91469836e-03, 1.19322092e-03,\n",
       "       1.05143885e-03, 1.43759817e-03, 3.09648879e-03, 4.22379405e-04,\n",
       "       1.58527625e-03, 3.63589327e-03, 1.93931221e-04, 6.66335192e-04,\n",
       "       5.54228074e-04, 1.13153069e-03, 6.47388750e-05, 1.78266356e-03,\n",
       "       1.65181823e-03, 8.92402102e-04, 7.68557925e-03, 1.36680268e-03,\n",
       "       7.69146490e-04, 4.78771117e-04, 1.10291356e-03, 6.51354717e-04,\n",
       "       4.75586201e-04, 6.62917572e-05, 4.43444942e-04, 3.17612704e-03,\n",
       "       1.22337235e-02, 1.69072509e-04, 5.67006251e-04, 1.45518291e-03,\n",
       "       3.65185147e-04, 1.20952508e-03, 1.72765884e-04, 2.25382061e-03,\n",
       "       2.81778718e-04, 1.92317065e-03, 3.91415271e-03, 3.08037080e-04,\n",
       "       3.55203495e-03, 4.29359026e-04, 2.02883198e-03, 1.39557125e-04,\n",
       "       4.54617746e-04, 3.85941174e-04, 9.21124981e-04, 1.22267684e-03,\n",
       "       2.34535801e-03, 3.31763069e-03, 6.84105860e-04, 1.60067668e-03,\n",
       "       9.25218808e-04, 1.04200178e-02, 1.02972335e-03, 9.87491447e-04,\n",
       "       6.35562541e-05, 8.36337063e-04, 5.04628933e-05, 5.49209143e-05,\n",
       "       3.43541970e-03, 3.45465329e-03, 5.07651784e-03, 5.70383645e-04,\n",
       "       8.18945616e-04, 1.49942244e-04, 4.35931395e-04, 8.51828102e-04,\n",
       "       1.27079473e-03, 9.40962560e-04, 1.20689592e-03, 1.39837297e-03,\n",
       "       1.17385394e-04, 6.42908897e-04, 5.53169906e-04, 2.48555585e-04,\n",
       "       3.07356220e-04, 1.58616946e-04, 1.54462646e-03, 1.24275139e-03,\n",
       "       2.76766493e-03, 1.08831413e-03, 1.75942029e-04, 1.16267249e-03,\n",
       "       1.11375748e-04, 4.27201527e-04, 1.28859786e-03, 6.64796144e-04,\n",
       "       3.22164440e-04, 2.19976713e-04, 1.65910248e-03, 1.69499289e-03,\n",
       "       1.64074385e-03, 7.49425664e-04, 5.82417454e-03, 7.71982806e-04,\n",
       "       2.19670664e-04, 9.93858611e-04, 2.58401968e-03, 5.26363499e-04,\n",
       "       5.02089714e-04, 5.35254246e-04, 2.32295452e-03, 2.74348378e-04,\n",
       "       4.01314685e-05, 1.47265419e-03, 6.51259647e-05, 9.78781514e-05,\n",
       "       1.18657511e-03, 2.66106529e-04, 2.25329137e-04, 5.24162168e-05,\n",
       "       5.16151606e-04, 1.25789340e-04, 7.13922912e-04, 1.21945417e-03,\n",
       "       1.29292615e-04, 1.06439765e-03, 4.47892914e-04, 4.50582203e-04,\n",
       "       1.08960180e-03, 2.03106619e-03, 1.80918951e-03, 7.44382164e-04,\n",
       "       5.36298135e-04, 8.39928607e-04, 3.90481675e-03, 4.68545633e-04,\n",
       "       1.55246120e-03, 1.73263542e-04, 1.35845335e-04, 6.51316584e-03,\n",
       "       6.63775960e-04, 4.59340536e-03, 1.04812959e-03, 7.75918474e-04,\n",
       "       1.94892866e-03, 5.85805376e-03, 2.00825146e-03, 9.09692390e-05,\n",
       "       2.10087366e-03, 1.55755565e-03, 4.64799081e-05, 3.02336630e-04,\n",
       "       6.62298747e-04, 2.34834835e-03, 7.41737147e-04, 1.42408337e-04,\n",
       "       1.12023053e-03, 1.02688015e-04, 3.91411910e-04, 2.18073273e-03,\n",
       "       2.31462015e-03, 5.52408486e-03, 2.36508900e-03, 1.70121024e-04,\n",
       "       1.12245763e-03, 1.23894111e-03, 5.29075099e-04, 1.03802537e-04,\n",
       "       1.17983678e-03, 3.30299055e-03, 9.54222754e-04, 3.50603225e-03,\n",
       "       1.81551121e-03, 4.93923941e-04, 9.07021858e-04, 4.00948174e-02,\n",
       "       9.47078397e-04, 1.54795509e-03, 9.77751480e-04, 1.36441771e-03,\n",
       "       6.50603180e-04, 1.65598653e-03, 6.32373013e-05, 1.33110630e-04,\n",
       "       3.50140399e-04, 1.12634087e-04, 1.50747783e-04, 1.42848152e-03,\n",
       "       1.11800110e-04, 9.79993288e-05, 1.71574460e-03, 2.37603722e-03,\n",
       "       1.48038806e-04, 4.74214811e-04, 1.73587675e-03, 6.19023868e-04,\n",
       "       1.02381025e-04, 1.57196062e-03, 2.03221020e-04, 1.32804315e-03,\n",
       "       1.85984613e-03, 1.52902466e-04, 1.12525922e-03, 9.18891043e-03,\n",
       "       8.07951157e-04, 1.62557466e-03, 7.36689071e-04, 1.12771640e-02,\n",
       "       9.37520055e-04, 9.32554226e-04, 2.32285579e-04, 1.04186519e-03,\n",
       "       2.23676824e-03, 2.82572907e-04, 2.36856465e-04, 1.25408893e-04,\n",
       "       7.32549242e-04, 1.21135161e-04, 1.32830465e-03, 8.28252666e-04,\n",
       "       1.15176549e-03, 5.18488928e-04, 8.38333157e-04, 3.26490177e-04,\n",
       "       8.88864404e-04, 1.27928601e-04, 1.15246592e-03, 9.47559969e-05,\n",
       "       2.24342645e-04, 2.78241603e-04, 8.00288060e-05, 2.68367835e-04,\n",
       "       3.02780366e-04, 1.31622238e-03, 3.18014133e-03, 5.85849165e-04,\n",
       "       1.75080081e-03, 1.31539863e-03, 6.78863907e-04, 6.01867488e-05,\n",
       "       5.74377709e-05, 7.37621907e-04, 1.90029783e-03, 3.12039024e-04,\n",
       "       1.99573708e-03, 8.99816715e-04, 1.33698166e-03, 1.57642434e-03,\n",
       "       1.03067095e-04, 1.86533501e-03, 1.30131622e-03, 1.95193815e-04,\n",
       "       7.40921800e-04, 8.54433876e-04, 9.94206013e-04, 9.19541050e-05,\n",
       "       9.01443753e-05, 1.89995732e-03, 1.82586923e-03, 1.51432690e-03,\n",
       "       2.32801508e-04, 1.99151729e-04, 8.35278030e-04, 2.51420021e-03,\n",
       "       4.29394853e-04, 7.02272090e-04, 8.25591272e-05, 8.65592450e-04,\n",
       "       1.34669509e-03, 2.14245896e-04, 7.96434061e-04, 1.67246345e-03,\n",
       "       1.32580922e-03, 1.10667217e-03, 1.62659364e-03, 4.04677580e-03,\n",
       "       1.62688522e-03, 9.87558589e-03, 2.38141043e-04, 4.43049414e-03,\n",
       "       1.76209859e-04, 7.11997425e-04, 1.42502250e-03, 1.86504694e-03,\n",
       "       4.91988375e-03, 6.39328951e-04, 1.59019687e-03, 2.15771618e-03,\n",
       "       1.10784927e-04, 1.16435908e-03, 1.52377462e-03, 8.59725596e-04,\n",
       "       3.20023953e-03, 8.90851963e-04, 4.93395734e-04, 1.37452229e-04,\n",
       "       7.54714234e-05, 1.16221689e-04, 5.76539254e-04, 1.37852327e-03,\n",
       "       4.13076192e-04, 1.36202152e-04, 2.26681939e-03, 5.09127930e-04,\n",
       "       3.30261047e-03, 1.66686184e-03, 5.79262927e-03, 1.09450681e-04,\n",
       "       9.08959043e-04, 1.80703109e-03, 1.56989079e-03, 1.47041407e-04,\n",
       "       2.90988553e-03, 9.16491397e-04, 1.39285425e-03, 4.97205968e-05,\n",
       "       2.12028280e-04, 1.04334258e-04, 1.07057265e-03, 8.95374810e-04,\n",
       "       1.09146454e-03, 5.29190709e-04, 5.68699905e-04, 1.39795674e-03,\n",
       "       2.61921253e-04, 1.79601458e-03, 1.38233077e-03, 1.41818289e-03,\n",
       "       4.66785517e-04, 1.19350824e-03, 9.61659709e-04, 6.75592513e-05,\n",
       "       2.29166937e-04, 1.27478280e-03, 9.89364416e-04, 6.97419615e-04,\n",
       "       4.89964924e-05, 2.22387837e-04, 2.22178949e-04, 2.52754246e-04,\n",
       "       2.08158206e-04, 1.91028701e-03, 1.01157631e-03, 3.45849998e-03,\n",
       "       1.07365622e-04, 1.48428488e-04, 9.80034021e-04, 8.99812109e-05,\n",
       "       5.76341620e-04, 1.80007450e-03, 2.18686964e-04, 1.40705432e-04,\n",
       "       1.09830256e-03, 7.90771957e-04, 7.07543739e-04, 8.06793427e-03,\n",
       "       1.71171462e-03, 1.32913405e-03, 1.40563601e-03, 1.13957116e-03,\n",
       "       8.84188820e-04, 2.53009972e-04, 2.02411264e-03, 1.20444494e-03,\n",
       "       1.29975939e-03, 8.95438805e-04, 3.30631866e-04, 1.48890936e-03,\n",
       "       1.04718376e-03, 6.40429345e-04, 4.89392652e-04, 1.05796735e-03,\n",
       "       1.75302321e-04, 7.00453281e-04, 8.25897717e-04, 1.74979188e-03,\n",
       "       1.81099067e-03, 7.91674827e-04, 1.76519940e-03, 3.21511623e-04,\n",
       "       2.05342987e-03, 8.56496804e-04, 2.46626968e-03, 2.16360575e-04,\n",
       "       1.98391734e-04, 1.90867227e-03, 2.79936351e-03, 9.09588600e-04,\n",
       "       2.74267736e-04, 5.76977603e-05, 4.44779891e-04, 1.10324115e-04,\n",
       "       1.54057978e-03, 2.67569345e-04, 1.01879733e-04, 2.16840170e-03,\n",
       "       1.42439766e-03, 1.46037621e-03, 2.19241812e-03, 3.16347465e-03,\n",
       "       2.35114427e-03, 4.39095420e-04, 1.19736474e-03, 9.14574044e-04,\n",
       "       1.36234710e-03, 2.31106565e-04, 2.02781867e-03, 9.17461758e-04,\n",
       "       8.83686300e-05, 9.70175489e-04, 1.40076843e-03, 4.46276759e-03,\n",
       "       1.47579650e-03, 1.26311370e-03, 7.18053991e-03, 1.33929233e-03,\n",
       "       1.77573794e-04, 3.35457171e-03, 1.71222608e-02, 9.12198924e-04,\n",
       "       2.17286817e-03, 6.45738117e-04, 1.35264499e-03, 1.55340544e-04,\n",
       "       2.40250095e-04])"
      ]
     },
     "execution_count": 109,
     "metadata": {},
     "output_type": "execute_result"
    }
   ],
   "source": [
    "rf.feature_importances_"
   ]
  },
  {
   "cell_type": "code",
   "execution_count": 110,
   "id": "f0c91785",
   "metadata": {},
   "outputs": [],
   "source": [
    "RF_importance = pd.DataFrame(rf.feature_importances_)\n",
    "RF_importance.index = X_train_clean.columns\n",
    "RF_importance.columns =  [\"Importance\"]\n",
    "RF_importance = RF_importance.sort_values(by=['Importance'],ascending = False)"
   ]
  },
  {
   "cell_type": "code",
   "execution_count": 111,
   "id": "4704d672",
   "metadata": {},
   "outputs": [
    {
     "data": {
      "text/html": [
       "<div>\n",
       "<style scoped>\n",
       "    .dataframe tbody tr th:only-of-type {\n",
       "        vertical-align: middle;\n",
       "    }\n",
       "\n",
       "    .dataframe tbody tr th {\n",
       "        vertical-align: top;\n",
       "    }\n",
       "\n",
       "    .dataframe thead th {\n",
       "        text-align: right;\n",
       "    }\n",
       "</style>\n",
       "<table border=\"1\" class=\"dataframe\">\n",
       "  <thead>\n",
       "    <tr style=\"text-align: right;\">\n",
       "      <th></th>\n",
       "      <th>Importance</th>\n",
       "    </tr>\n",
       "  </thead>\n",
       "  <tbody>\n",
       "    <tr>\n",
       "      <th>Bus_Ave_Star</th>\n",
       "      <td>0.128017</td>\n",
       "    </tr>\n",
       "    <tr>\n",
       "      <th>Users_Ave_Star</th>\n",
       "      <td>0.106448</td>\n",
       "    </tr>\n",
       "    <tr>\n",
       "      <th>not</th>\n",
       "      <td>0.040095</td>\n",
       "    </tr>\n",
       "    <tr>\n",
       "      <th>User_Review_count</th>\n",
       "      <td>0.022056</td>\n",
       "    </tr>\n",
       "    <tr>\n",
       "      <th>great</th>\n",
       "      <td>0.017122</td>\n",
       "    </tr>\n",
       "    <tr>\n",
       "      <th>...</th>\n",
       "      <td>...</td>\n",
       "    </tr>\n",
       "    <tr>\n",
       "      <th>squash</th>\n",
       "      <td>0.000050</td>\n",
       "    </tr>\n",
       "    <tr>\n",
       "      <th>nicest</th>\n",
       "      <td>0.000050</td>\n",
       "    </tr>\n",
       "    <tr>\n",
       "      <th>winner</th>\n",
       "      <td>0.000049</td>\n",
       "    </tr>\n",
       "    <tr>\n",
       "      <th>peach</th>\n",
       "      <td>0.000046</td>\n",
       "    </tr>\n",
       "    <tr>\n",
       "      <th>compliment</th>\n",
       "      <td>0.000040</td>\n",
       "    </tr>\n",
       "  </tbody>\n",
       "</table>\n",
       "<p>469 rows × 1 columns</p>\n",
       "</div>"
      ],
      "text/plain": [
       "                   Importance\n",
       "Bus_Ave_Star         0.128017\n",
       "Users_Ave_Star       0.106448\n",
       "not                  0.040095\n",
       "User_Review_count    0.022056\n",
       "great                0.017122\n",
       "...                       ...\n",
       "squash               0.000050\n",
       "nicest               0.000050\n",
       "winner               0.000049\n",
       "peach                0.000046\n",
       "compliment           0.000040\n",
       "\n",
       "[469 rows x 1 columns]"
      ]
     },
     "execution_count": 111,
     "metadata": {},
     "output_type": "execute_result"
    }
   ],
   "source": [
    "RF_importance"
   ]
  },
  {
   "cell_type": "code",
   "execution_count": 117,
   "id": "fac4fd8e",
   "metadata": {
    "scrolled": false
   },
   "outputs": [
    {
     "data": {
      "text/plain": [
       "<Figure size 28800x43200 with 0 Axes>"
      ]
     },
     "execution_count": 117,
     "metadata": {},
     "output_type": "execute_result"
    },
    {
     "data": {
      "image/png": "[encoded data removed]",
      "text/plain": [
       "<Figure size 432x288 with 1 Axes>"
      ]
     },
     "metadata": {
      "needs_background": "light"
     },
     "output_type": "display_data"
    },
    {
     "data": {
      "text/plain": [
       "<Figure size 28800x43200 with 0 Axes>"
      ]
     },
     "metadata": {},
     "output_type": "display_data"
    }
   ],
   "source": [
    "sns.barplot(x = RF_importance.index ,y=RF_importance.Importance)\n",
    "plt.xticks(rotation = 90)\n",
    "plt.figure(figsize = (400,600))"
   ]
  },
  {
   "cell_type": "markdown",
   "id": "5900307b",
   "metadata": {},
   "source": [
    "### The most important features"
   ]
  },
  {
   "cell_type": "code",
   "execution_count": 116,
   "id": "67bc8008",
   "metadata": {},
   "outputs": [
    {
     "data": {
      "text/plain": [
       "<Figure size 14400x21600 with 0 Axes>"
      ]
     },
     "execution_count": 116,
     "metadata": {},
     "output_type": "execute_result"
    },
    {
     "data": {
      "image/png": "[encoded data removed]",
      "text/plain": [
       "<Figure size 432x288 with 1 Axes>"
      ]
     },
     "metadata": {
      "needs_background": "light"
     },
     "output_type": "display_data"
    },
    {
     "data": {
      "text/plain": [
       "<Figure size 14400x21600 with 0 Axes>"
      ]
     },
     "metadata": {},
     "output_type": "display_data"
    }
   ],
   "source": [
    "sns.barplot(x = RF_importance[0:30].index ,y=RF_importance[0:30].Importance)\n",
    "plt.xticks(rotation = 80)\n",
    "plt.figure(figsize = (200,300))"
   ]
  },
  {
   "cell_type": "code",
   "execution_count": null,
   "id": "e12f6088",
   "metadata": {},
   "outputs": [],
   "source": []
  },
  {
   "cell_type": "markdown",
   "id": "f0bf21f0",
   "metadata": {},
   "source": [
    "### EDA for certain variables\n",
    "+"
   ]
  },
  {
   "cell_type": "markdown",
   "id": "cf4660a9",
   "metadata": {},
   "source": [
    "For feature selection, we got different results for LASSO and random forest. The way they select the importance is different. \n",
    "1. The most important features should be rated high in both method, thus we set a thredshold for both.\n",
    "2. hyperparameter的值可能会对feature importance有点影响，但是我觉得影响应该不大。因为RF是随机挑选的feature去构造树。只要树够多，基本上都会考虑到所有的feature\n",
    "\n",
    "\n",
    "所以我们准备重新run一下random forest feature selection using more trees, 并且用另外一种方式 - average mean decrease 比较结果\n",
    "\n",
    "step:  \n",
    "   1. rerun the above code with more estimators\n",
    "   2. rerun the random forest feature selection with more estimators and average mean decrease\n",
    "   3. set up a thredshold for both LASSO and random forest selection results and selected fewer features\n",
    "       - can also use LASSO first then random forest because RF is not able to differentiate correlated features\n",
    "   4. briefly estimated the range of the best parameters and use random grid\n",
    "   5. estimate the best parameter using gram grid\n",
    "   6. ROC curve\n",
    "   \n",
    "\n",
    "\n",
    "**有一个争议比较大的variable: User review count. It ranked really low in LASSO but relative high in RF**"
   ]
  },
  {
   "cell_type": "markdown",
   "id": "9315e7a6",
   "metadata": {},
   "source": [
    "### RF importance using permutation"
   ]
  },
  {
   "cell_type": "code",
   "execution_count": 118,
   "id": "854db490",
   "metadata": {},
   "outputs": [],
   "source": [
    "perm_importance = permutation_importance(rf, X_train_clean, Y_train)"
   ]
  },
  {
   "cell_type": "code",
   "execution_count": 119,
   "id": "c0eb1ed0",
   "metadata": {},
   "outputs": [
    {
     "data": {
      "text/plain": [
       "array([1.98463590e-02, 3.35514248e-02, 1.68071310e-02, 5.06354103e-01,\n",
       "       3.73072803e-02, 2.06052093e-02, 2.11916073e-02, 2.13836278e-02,\n",
       "       2.09057843e-02, 4.23084179e-01, 1.09723614e-03, 1.26512688e-03,\n",
       "       5.37012787e-04, 1.06173082e-04, 6.13583638e-04, 8.48475837e-04,\n",
       "       1.93615993e-04, 8.14302830e-05, 2.70483796e-03, 1.36155503e-03,\n",
       "       3.22935991e-04, 8.82630330e-04, 3.51974854e-02, 3.79565570e-03,\n",
       "       6.01273499e-03, 6.52104359e-04, 1.42858267e-03, 7.64383081e-04,\n",
       "       7.24675997e-04, 5.82797180e-05, 8.83511718e-05, 6.93249109e-04,\n",
       "       9.14137764e-04, 1.90958673e-03, 9.91567442e-05, 4.79325423e-05,\n",
       "       6.03908308e-04, 6.85626362e-03, 5.35652817e-04, 9.77679195e-04,\n",
       "       2.27102437e-02, 3.91690200e-04, 2.05085553e-03, 7.11682034e-04,\n",
       "       1.38717646e-03, 5.07862660e-04, 3.60987802e-03, 1.68769359e-04,\n",
       "       4.22354913e-04, 4.61731421e-05, 2.17970615e-03, 1.83558341e-03,\n",
       "       1.12262582e-03, 8.69203311e-04, 1.81343555e-02, 8.95215101e-04,\n",
       "       8.90226117e-04, 1.12870349e-03, 4.00338267e-03, 4.46320263e-04,\n",
       "       1.40502241e-03, 3.84907648e-03, 1.15925862e-04, 8.26600012e-04,\n",
       "       3.81830648e-04, 8.53519194e-04, 2.30727846e-05, 1.92604316e-03,\n",
       "       1.46530871e-03, 6.91371543e-04, 2.48715764e-02, 1.41406352e-03,\n",
       "       7.06907229e-04, 3.24376479e-04, 1.17741061e-03, 4.63186866e-04,\n",
       "       2.98323759e-04, 3.35561999e-05, 3.00827067e-04, 3.68733715e-03,\n",
       "       7.28117042e-02, 8.89248430e-05, 4.59475709e-04, 1.32960745e-03,\n",
       "       2.18732995e-04, 9.90859190e-04, 8.21780445e-05, 2.20581918e-03,\n",
       "       1.67848409e-04, 3.62650429e-03, 7.78482922e-03, 2.33137685e-04,\n",
       "       3.06172660e-03, 3.71209951e-04, 1.97570832e-03, 8.83788388e-05,\n",
       "       3.85546053e-04, 2.64756183e-04, 6.81895455e-04, 1.17210274e-03,\n",
       "       2.82611885e-03, 3.79583244e-03, 4.88905180e-04, 1.40162960e-03,\n",
       "       6.72588853e-04, 2.90322727e-02, 7.93911387e-04, 7.47238884e-04,\n",
       "       2.91500788e-05, 6.50651666e-04, 2.44121296e-05, 2.57146009e-05,\n",
       "       4.26593351e-03, 5.16783460e-03, 2.46054669e-02, 4.52736561e-04,\n",
       "       6.92849085e-04, 7.66591776e-05, 3.90925861e-04, 5.66085238e-04,\n",
       "       1.04308361e-03, 8.05560318e-04, 9.78058739e-04, 1.30934496e-03,\n",
       "       6.51281216e-05, 4.71887809e-04, 3.90053157e-04, 1.70316409e-04,\n",
       "       1.83045365e-04, 1.06783967e-04, 1.26204570e-03, 1.13708900e-03,\n",
       "       4.49976155e-03, 9.27996027e-04, 8.09072203e-05, 1.04438777e-03,\n",
       "       4.63167066e-05, 2.75414299e-04, 1.82464683e-03, 4.80693461e-04,\n",
       "       1.89999635e-04, 2.79958703e-04, 1.49240218e-03, 1.48355180e-03,\n",
       "       1.43995281e-03, 5.30928839e-04, 8.37950485e-03, 5.62743517e-04,\n",
       "       1.37340289e-04, 7.08812767e-04, 2.61743098e-03, 3.59370004e-04,\n",
       "       3.37734371e-04, 3.84277620e-04, 2.28914370e-03, 1.85104441e-04,\n",
       "       1.98504551e-05, 1.11624530e-03, 2.76046227e-05, 5.16934572e-05,\n",
       "       9.73189268e-04, 1.36617168e-04, 1.62212973e-04, 2.53749188e-05,\n",
       "       3.25984606e-04, 7.03701536e-05, 5.45218849e-04, 9.83303533e-04,\n",
       "       7.70631417e-05, 8.40179154e-04, 2.78820217e-04, 3.08174078e-04,\n",
       "       9.14508498e-04, 1.95668675e-03, 1.83386047e-03, 5.17338838e-04,\n",
       "       3.29110955e-04, 6.22757789e-04, 6.08771462e-03, 3.75837478e-04,\n",
       "       1.39099929e-03, 9.23458766e-05, 7.62825295e-05, 1.67685895e-02,\n",
       "       7.15889350e-04, 9.70775344e-03, 7.72629410e-04, 5.85810101e-04,\n",
       "       2.70854110e-03, 1.29428440e-02, 2.08087083e-03, 5.49648340e-05,\n",
       "       3.16324301e-03, 1.37132399e-03, 2.37556057e-05, 1.84337117e-04,\n",
       "       4.87225519e-04, 2.17327721e-03, 5.62995312e-04, 7.17839771e-05,\n",
       "       8.61904906e-04, 4.24391730e-05, 2.79184099e-04, 2.09815948e-03,\n",
       "       3.05716671e-03, 1.22797641e-02, 2.22485226e-03, 9.43328121e-05,\n",
       "       8.56479577e-04, 1.06996808e-03, 4.96889382e-04, 4.50568498e-05,\n",
       "       1.02430051e-03, 3.55104158e-03, 6.95583760e-04, 8.09599087e-03,\n",
       "       1.87078308e-03, 4.31704435e-04, 7.34328816e-04, 2.26218562e-01,\n",
       "       6.96610484e-04, 1.36315004e-03, 7.45089694e-04, 1.18458470e-03,\n",
       "       4.79711760e-04, 1.87480272e-03, 3.38375531e-05, 6.26179029e-05,\n",
       "       2.11475224e-04, 6.10202737e-05, 8.97277128e-05, 1.81545231e-03,\n",
       "       3.80929006e-05, 4.54089191e-05, 2.48406640e-03, 5.85848761e-03,\n",
       "       7.32118318e-05, 2.96872872e-04, 2.43330799e-03, 4.79019002e-04,\n",
       "       4.87003868e-05, 1.25136328e-03, 1.28952175e-04, 1.12247691e-03,\n",
       "       1.62537984e-03, 7.55458856e-05, 9.29496984e-04, 1.75852151e-02,\n",
       "       5.83925381e-04, 1.51827577e-03, 6.02664920e-04, 4.92720404e-02,\n",
       "       6.90395553e-04, 6.55167307e-04, 1.33864319e-04, 1.08275462e-03,\n",
       "       2.20920499e-03, 1.62847535e-04, 2.08961753e-04, 5.98287408e-05,\n",
       "       4.97371209e-04, 6.54537566e-05, 1.04276866e-03, 6.67500229e-04,\n",
       "       1.07664163e-03, 4.20840102e-04, 5.92302651e-04, 2.17561478e-04,\n",
       "       6.36162032e-04, 7.08101959e-05, 1.02442089e-03, 4.01029812e-05,\n",
       "       1.29084484e-04, 1.48260656e-04, 3.73636856e-05, 1.64990912e-04,\n",
       "       2.11893121e-04, 1.00371003e-03, 3.84388285e-03, 7.09819530e-04,\n",
       "       2.37127075e-03, 1.32392543e-03, 4.35015266e-04, 3.14316167e-05,\n",
       "       3.10442434e-05, 5.05827669e-04, 2.02524507e-03, 2.13154554e-04,\n",
       "       2.67456792e-03, 6.66703303e-04, 1.01285704e-03, 1.71643092e-03,\n",
       "       4.83468770e-05, 2.66131079e-03, 1.02450932e-03, 1.44045643e-04,\n",
       "       5.21514941e-04, 6.12641676e-04, 7.54999732e-04, 4.90888771e-05,\n",
       "       4.65542248e-05, 2.00012629e-03, 1.74167174e-03, 1.46567217e-03,\n",
       "       1.45823510e-04, 1.02759015e-04, 6.73975713e-04, 2.32324859e-03,\n",
       "       2.77375489e-04, 5.30793219e-04, 4.10400494e-05, 6.53071352e-04,\n",
       "       1.17703433e-03, 1.60117696e-04, 6.40223130e-04, 1.49221346e-03,\n",
       "       1.39655466e-03, 8.64444505e-04, 1.51803676e-03, 5.48121610e-03,\n",
       "       1.28281307e-03, 1.76137720e-02, 1.81531832e-04, 4.60803297e-03,\n",
       "       1.70606571e-04, 5.49952204e-04, 1.26882968e-03, 1.87061945e-03,\n",
       "       6.87718868e-03, 4.68335830e-04, 1.51471590e-03, 1.96785493e-03,\n",
       "       5.68312424e-05, 8.75031483e-04, 1.37369889e-03, 7.52671586e-04,\n",
       "       3.55949135e-03, 6.40382310e-04, 3.35816498e-04, 7.23029493e-05,\n",
       "       4.12517163e-05, 5.65878101e-05, 3.87542704e-04, 1.11812497e-03,\n",
       "       2.88514809e-04, 8.23836755e-05, 2.27607034e-03, 2.98646947e-04,\n",
       "       3.36410707e-03, 1.45587148e-03, 7.55453355e-03, 5.86179078e-05,\n",
       "       6.97982701e-04, 1.58038519e-03, 1.12637349e-03, 7.91063373e-05,\n",
       "       3.62655479e-03, 8.42718499e-04, 1.18124099e-03, 2.31983032e-05,\n",
       "       1.31273166e-04, 5.92771449e-05, 7.87492202e-04, 6.75247992e-04,\n",
       "       8.48257183e-04, 4.89617809e-04, 4.12514356e-04, 1.22688887e-03,\n",
       "       1.44160179e-04, 1.60120297e-03, 1.30600879e-03, 9.75835259e-04,\n",
       "       2.85946557e-04, 9.46815630e-04, 9.42585771e-04, 2.89906771e-05,\n",
       "       1.27467481e-04, 9.75940712e-04, 7.86080628e-04, 5.97805362e-04,\n",
       "       1.98479859e-05, 1.32971711e-04, 1.25567183e-04, 1.75763876e-04,\n",
       "       1.38171747e-04, 2.31406141e-03, 8.09062070e-04, 4.42267777e-03,\n",
       "       5.58753170e-05, 7.62124138e-05, 7.62705188e-04, 4.26536834e-05,\n",
       "       3.73451572e-04, 2.01323471e-03, 1.17848368e-04, 7.80082025e-05,\n",
       "       7.81460649e-04, 5.62600947e-04, 5.12658770e-04, 1.46806224e-02,\n",
       "       1.57082803e-03, 9.94464922e-04, 1.12894440e-03, 9.03425671e-04,\n",
       "       6.58125895e-04, 1.48603152e-04, 3.38994838e-03, 1.07605566e-03,\n",
       "       1.15040247e-03, 6.59976333e-04, 2.25812275e-04, 1.17794340e-03,\n",
       "       8.39971423e-04, 4.26634648e-04, 3.26449206e-04, 8.51874371e-04,\n",
       "       8.07571467e-05, 5.35107636e-04, 6.17274754e-04, 2.26677435e-03,\n",
       "       1.78382161e-03, 5.51054868e-04, 2.03831617e-03, 2.41562775e-04,\n",
       "       2.07027384e-03, 6.34545244e-04, 4.26472500e-03, 1.47279140e-04,\n",
       "       1.00136667e-04, 2.01500114e-03, 2.87543661e-03, 5.61719171e-04,\n",
       "       1.82203185e-04, 2.60749422e-05, 2.26678484e-04, 5.75644679e-05,\n",
       "       1.17417869e-03, 1.68460068e-04, 6.59268862e-05, 3.22422760e-03,\n",
       "       1.24316003e-03, 1.16744763e-03, 2.09118648e-03, 3.23700904e-03,\n",
       "       3.23792624e-03, 2.26128338e-04, 8.72242890e-04, 6.96453459e-04,\n",
       "       1.26650346e-03, 1.25986322e-04, 2.43447130e-03, 9.30635204e-04,\n",
       "       5.41853430e-05, 6.70327591e-04, 1.06981673e-03, 5.82193144e-03,\n",
       "       1.32582773e-03, 9.27324345e-04, 1.90245197e-02, 1.09419347e-03,\n",
       "       7.61218484e-05, 4.59884006e-03, 1.10210257e-01, 8.31472677e-04,\n",
       "       2.60623054e-03, 4.73211487e-04, 1.11263794e-03, 1.87253618e-04,\n",
       "       1.36048562e-04])"
      ]
     },
     "execution_count": 119,
     "metadata": {},
     "output_type": "execute_result"
    }
   ],
   "source": [
    "perm_importance.importances_mean"
   ]
  },
  {
   "cell_type": "code",
   "execution_count": 120,
   "id": "ba5e6c1e",
   "metadata": {},
   "outputs": [],
   "source": [
    "perm_importance = pd.DataFrame(perm_importance.importances_mean)\n",
    "perm_importance.index = X_train_clean.columns\n",
    "perm_importance.columns =  [\"Importance\"]\n",
    "perm_importance = perm_importance.sort_values(by=['Importance'],ascending = False)"
   ]
  },
  {
   "cell_type": "code",
   "execution_count": 121,
   "id": "4239a856",
   "metadata": {},
   "outputs": [
    {
     "data": {
      "text/html": [
       "<div>\n",
       "<style scoped>\n",
       "    .dataframe tbody tr th:only-of-type {\n",
       "        vertical-align: middle;\n",
       "    }\n",
       "\n",
       "    .dataframe tbody tr th {\n",
       "        vertical-align: top;\n",
       "    }\n",
       "\n",
       "    .dataframe thead th {\n",
       "        text-align: right;\n",
       "    }\n",
       "</style>\n",
       "<table border=\"1\" class=\"dataframe\">\n",
       "  <thead>\n",
       "    <tr style=\"text-align: right;\">\n",
       "      <th></th>\n",
       "      <th>Importance</th>\n",
       "    </tr>\n",
       "  </thead>\n",
       "  <tbody>\n",
       "    <tr>\n",
       "      <th>Bus_Ave_Star</th>\n",
       "      <td>0.506354</td>\n",
       "    </tr>\n",
       "    <tr>\n",
       "      <th>Users_Ave_Star</th>\n",
       "      <td>0.423084</td>\n",
       "    </tr>\n",
       "    <tr>\n",
       "      <th>not</th>\n",
       "      <td>0.226219</td>\n",
       "    </tr>\n",
       "    <tr>\n",
       "      <th>great</th>\n",
       "      <td>0.110210</td>\n",
       "    </tr>\n",
       "    <tr>\n",
       "      <th>love</th>\n",
       "      <td>0.072812</td>\n",
       "    </tr>\n",
       "    <tr>\n",
       "      <th>...</th>\n",
       "      <td>...</td>\n",
       "    </tr>\n",
       "    <tr>\n",
       "      <th>peach</th>\n",
       "      <td>0.000024</td>\n",
       "    </tr>\n",
       "    <tr>\n",
       "      <th>nicest</th>\n",
       "      <td>0.000023</td>\n",
       "    </tr>\n",
       "    <tr>\n",
       "      <th>boil</th>\n",
       "      <td>0.000023</td>\n",
       "    </tr>\n",
       "    <tr>\n",
       "      <th>compliment</th>\n",
       "      <td>0.000020</td>\n",
       "    </tr>\n",
       "    <tr>\n",
       "      <th>winner</th>\n",
       "      <td>0.000020</td>\n",
       "    </tr>\n",
       "  </tbody>\n",
       "</table>\n",
       "<p>469 rows × 1 columns</p>\n",
       "</div>"
      ],
      "text/plain": [
       "                Importance\n",
       "Bus_Ave_Star      0.506354\n",
       "Users_Ave_Star    0.423084\n",
       "not               0.226219\n",
       "great             0.110210\n",
       "love              0.072812\n",
       "...                    ...\n",
       "peach             0.000024\n",
       "nicest            0.000023\n",
       "boil              0.000023\n",
       "compliment        0.000020\n",
       "winner            0.000020\n",
       "\n",
       "[469 rows x 1 columns]"
      ]
     },
     "execution_count": 121,
     "metadata": {},
     "output_type": "execute_result"
    }
   ],
   "source": [
    "perm_importance"
   ]
  },
  {
   "cell_type": "code",
   "execution_count": 122,
   "id": "79a21e72",
   "metadata": {},
   "outputs": [
    {
     "data": {
      "text/plain": [
       "<Figure size 14400x21600 with 0 Axes>"
      ]
     },
     "execution_count": 122,
     "metadata": {},
     "output_type": "execute_result"
    },
    {
     "data": {
      "image/png": "[encoded data removed]",
      "text/plain": [
       "<Figure size 432x288 with 1 Axes>"
      ]
     },
     "metadata": {
      "needs_background": "light"
     },
     "output_type": "display_data"
    },
    {
     "data": {
      "text/plain": [
       "<Figure size 14400x21600 with 0 Axes>"
      ]
     },
     "metadata": {},
     "output_type": "display_data"
    }
   ],
   "source": [
    "sns.barplot(x = perm_importance.index ,y=perm_importance.Importance)\n",
    "plt.xticks(rotation = 90)\n",
    "plt.figure(figsize = (200,300))"
   ]
  },
  {
   "cell_type": "code",
   "execution_count": 123,
   "id": "ff3cab76",
   "metadata": {},
   "outputs": [
    {
     "data": {
      "text/plain": [
       "<Figure size 14400x21600 with 0 Axes>"
      ]
     },
     "execution_count": 123,
     "metadata": {},
     "output_type": "execute_result"
    },
    {
     "data": {
      "image/png": "[encoded data removed]",
      "text/plain": [
       "<Figure size 432x288 with 1 Axes>"
      ]
     },
     "metadata": {
      "needs_background": "light"
     },
     "output_type": "display_data"
    },
    {
     "data": {
      "text/plain": [
       "<Figure size 14400x21600 with 0 Axes>"
      ]
     },
     "metadata": {},
     "output_type": "display_data"
    }
   ],
   "source": [
    "sns.barplot(x = perm_importance[0:30].index ,y=perm_importance[0:30].Importance)\n",
    "plt.xticks(rotation = 80)\n",
    "plt.figure(figsize = (200,300))"
   ]
  },
  {
   "cell_type": "code",
   "execution_count": 135,
   "id": "04ad67bb",
   "metadata": {},
   "outputs": [
    {
     "data": {
      "text/plain": [
       "0.9196788133918838"
      ]
     },
     "execution_count": 135,
     "metadata": {},
     "output_type": "execute_result"
    }
   ],
   "source": [
    "rf.score(X_train_clean,Y_train)"
   ]
  },
  {
   "cell_type": "code",
   "execution_count": 136,
   "id": "2ce667eb",
   "metadata": {},
   "outputs": [
    {
     "data": {
      "text/plain": [
       "0.3916947636887911"
      ]
     },
     "execution_count": 136,
     "metadata": {},
     "output_type": "execute_result"
    }
   ],
   "source": [
    "#救命....\n",
    "#速速tune一些parameter...\n",
    "rf.score(X_test_clean,Y_test)"
   ]
  },
  {
   "cell_type": "code",
   "execution_count": 137,
   "id": "3eb68098",
   "metadata": {},
   "outputs": [
    {
     "data": {
      "text/plain": [
       "Index(['Useful', 'Cool', 'Funny', 'Bus_Ave_Star', 'Users_Ave_Star', 'open',\n",
       "       'sinc', 'bore', 'safe', 'egg',\n",
       "       ...\n",
       "       'seat', 'regret', 'nice', 'great', 'must', 'definit', 'mexican', 'stop',\n",
       "       'drag', 'appeal'],\n",
       "      dtype='object', length=457)"
      ]
     },
     "execution_count": 137,
     "metadata": {},
     "output_type": "execute_result"
    }
   ],
   "source": [
    "#LASSO selected features\n",
    "X_train_LSimportant.columns"
   ]
  },
  {
   "cell_type": "code",
   "execution_count": 141,
   "id": "6a78bd7c",
   "metadata": {},
   "outputs": [
    {
     "data": {
      "text/plain": [
       "Index(['Bus_Ave_Star', 'Users_Ave_Star', 'not', 'User_Review_count', 'great',\n",
       "       'User_Useful_count', 'User_Cool_count', 'User_Fans', 'User_Funny_count',\n",
       "       'love', 'delici', 'Useful', 'ok', 'no', 'Cool', 'worst', 'ask', 'amaz',\n",
       "       'bland', 'Funny', 'wasn', 'good', 'disappoint', 'noth', 'perfect',\n",
       "       'said', 'rude', 'didn', 'best'],\n",
       "      dtype='object')"
      ]
     },
     "execution_count": 141,
     "metadata": {},
     "output_type": "execute_result"
    }
   ],
   "source": [
    "# RF_Gini_importance features\n",
    "RF_gini_selected = RF_importance[RF_importance['Importance'] >= 0.005].index\n",
    "RF_gini_selected"
   ]
  },
  {
   "cell_type": "code",
   "execution_count": 146,
   "id": "8e2193aa",
   "metadata": {},
   "outputs": [
    {
     "data": {
      "text/plain": [
       "Index(['Bus_Ave_Star', 'Users_Ave_Star', 'not', 'great', 'love', 'delici',\n",
       "       'User_Review_count', 'amaz', 'Cool', 'ok', 'wasn', 'best', 'no',\n",
       "       'User_Cool_count', 'User_Funny_count', 'User_Fans', 'User_Useful_count',\n",
       "       'Useful', 'good', 'disappoint', 'worst', 'ask', 'Funny', 'noth',\n",
       "       'bland', 'perfect', 'didn', 'lack', 'said', 'pretti', 'mayb', 'rude',\n",
       "       'food', 'decent', 'veri', 'friendli', 'santa', 'order', 'like',\n",
       "       'better'],\n",
       "      dtype='object')"
      ]
     },
     "execution_count": 146,
     "metadata": {},
     "output_type": "execute_result"
    }
   ],
   "source": [
    "# RF_permutation_importance features\n",
    "RF_per_selected = perm_importance[perm_importance['Importance'] >= 0.005].index\n",
    "RF_per_selected"
   ]
  },
  {
   "cell_type": "code",
   "execution_count": 157,
   "id": "00c350d6",
   "metadata": {},
   "outputs": [],
   "source": [
    "## 3个intersection\n",
    "three_selected = list(set(RF_gini_selected).intersection(set(RF_per_selected)).intersection(set(X_train_LSimportant.columns[:100])))"
   ]
  },
  {
   "cell_type": "code",
   "execution_count": 167,
   "id": "94b6a70c",
   "metadata": {},
   "outputs": [],
   "source": [
    "## tree structure model selections\n",
    "tree_selected = list(set(RF_gini_selected).intersection(set(RF_per_selected)))\n",
    "\n",
    "## linear selection\n",
    "lasso_selected = list(X_train_LSimportant.columns)"
   ]
  },
  {
   "cell_type": "markdown",
   "id": "c1c571fb",
   "metadata": {},
   "source": [
    "# Classification"
   ]
  },
  {
   "cell_type": "code",
   "execution_count": 126,
   "id": "4fe57a48",
   "metadata": {},
   "outputs": [
    {
     "data": {
      "text/plain": [
       "21470    First off to the other reviewer: O'Douls? \\n\\n...\n",
       "34181    Great experience!! $5 for 6 tastings. The Pino...\n",
       "37368    I give this hotel 4 stars because I loved my r...\n",
       "40228    Really great treat and a relaxing break downto...\n",
       "50044    I stopped in on a football Sunday. My party of...\n",
       "                               ...                        \n",
       "43292    Great portions of food at a great price! I lov...\n",
       "53587    Okay 2nd time here and the same bartender as l...\n",
       "1460     My third Thai meal in CA and I have been consi...\n",
       "51256    If you find yourself looking for a comfortable...\n",
       "2788     Thank you for the warm hospitality and graciou...\n",
       "Name: Review, Length: 10769, dtype: object"
      ]
     },
     "execution_count": 126,
     "metadata": {},
     "output_type": "execute_result"
    }
   ],
   "source": [
    "# Transform the Testing sets - X_test\n",
    "X_test['Review']"
   ]
  },
  {
   "cell_type": "code",
   "execution_count": 127,
   "id": "eed9bdb6",
   "metadata": {},
   "outputs": [],
   "source": [
    "X_test_vec = CountVec.transform(X_test['Review'])"
   ]
  },
  {
   "cell_type": "code",
   "execution_count": 128,
   "id": "b033124d",
   "metadata": {},
   "outputs": [
    {
     "data": {
      "text/plain": [
       "<10769x8511 sparse matrix of type '<class 'numpy.int64'>'\n",
       "\twith 404213 stored elements in Compressed Sparse Row format>"
      ]
     },
     "execution_count": 128,
     "metadata": {},
     "output_type": "execute_result"
    }
   ],
   "source": [
    "X_test_vec"
   ]
  },
  {
   "cell_type": "code",
   "execution_count": 129,
   "id": "bbdfc923",
   "metadata": {},
   "outputs": [],
   "source": [
    "BOW_df_test = pd.DataFrame(data=X_test_vec.toarray(),columns = CountVec.get_feature_names())"
   ]
  },
  {
   "cell_type": "code",
   "execution_count": 130,
   "id": "b3935856",
   "metadata": {},
   "outputs": [
    {
     "data": {
      "text/html": [
       "<div>\n",
       "<style scoped>\n",
       "    .dataframe tbody tr th:only-of-type {\n",
       "        vertical-align: middle;\n",
       "    }\n",
       "\n",
       "    .dataframe tbody tr th {\n",
       "        vertical-align: top;\n",
       "    }\n",
       "\n",
       "    .dataframe thead th {\n",
       "        text-align: right;\n",
       "    }\n",
       "</style>\n",
       "<table border=\"1\" class=\"dataframe\">\n",
       "  <thead>\n",
       "    <tr style=\"text-align: right;\">\n",
       "      <th></th>\n",
       "      <th>open</th>\n",
       "      <th>sinc</th>\n",
       "      <th>bore</th>\n",
       "      <th>safe</th>\n",
       "      <th>egg</th>\n",
       "      <th>portion</th>\n",
       "      <th>burn</th>\n",
       "      <th>crack</th>\n",
       "      <th>realli</th>\n",
       "      <th>overal</th>\n",
       "      <th>...</th>\n",
       "      <th>seat</th>\n",
       "      <th>regret</th>\n",
       "      <th>nice</th>\n",
       "      <th>great</th>\n",
       "      <th>must</th>\n",
       "      <th>definit</th>\n",
       "      <th>mexican</th>\n",
       "      <th>stop</th>\n",
       "      <th>drag</th>\n",
       "      <th>appeal</th>\n",
       "    </tr>\n",
       "  </thead>\n",
       "  <tbody>\n",
       "    <tr>\n",
       "      <th>0</th>\n",
       "      <td>0</td>\n",
       "      <td>0</td>\n",
       "      <td>0</td>\n",
       "      <td>0</td>\n",
       "      <td>0</td>\n",
       "      <td>0</td>\n",
       "      <td>0</td>\n",
       "      <td>0</td>\n",
       "      <td>0</td>\n",
       "      <td>0</td>\n",
       "      <td>...</td>\n",
       "      <td>0</td>\n",
       "      <td>0</td>\n",
       "      <td>0</td>\n",
       "      <td>0</td>\n",
       "      <td>0</td>\n",
       "      <td>0</td>\n",
       "      <td>0</td>\n",
       "      <td>0</td>\n",
       "      <td>0</td>\n",
       "      <td>0</td>\n",
       "    </tr>\n",
       "    <tr>\n",
       "      <th>1</th>\n",
       "      <td>0</td>\n",
       "      <td>0</td>\n",
       "      <td>0</td>\n",
       "      <td>0</td>\n",
       "      <td>0</td>\n",
       "      <td>0</td>\n",
       "      <td>0</td>\n",
       "      <td>0</td>\n",
       "      <td>0</td>\n",
       "      <td>0</td>\n",
       "      <td>...</td>\n",
       "      <td>0</td>\n",
       "      <td>0</td>\n",
       "      <td>1</td>\n",
       "      <td>1</td>\n",
       "      <td>0</td>\n",
       "      <td>0</td>\n",
       "      <td>0</td>\n",
       "      <td>0</td>\n",
       "      <td>0</td>\n",
       "      <td>0</td>\n",
       "    </tr>\n",
       "    <tr>\n",
       "      <th>2</th>\n",
       "      <td>0</td>\n",
       "      <td>0</td>\n",
       "      <td>0</td>\n",
       "      <td>0</td>\n",
       "      <td>0</td>\n",
       "      <td>0</td>\n",
       "      <td>0</td>\n",
       "      <td>0</td>\n",
       "      <td>0</td>\n",
       "      <td>0</td>\n",
       "      <td>...</td>\n",
       "      <td>0</td>\n",
       "      <td>0</td>\n",
       "      <td>0</td>\n",
       "      <td>3</td>\n",
       "      <td>0</td>\n",
       "      <td>0</td>\n",
       "      <td>0</td>\n",
       "      <td>0</td>\n",
       "      <td>0</td>\n",
       "      <td>0</td>\n",
       "    </tr>\n",
       "    <tr>\n",
       "      <th>3</th>\n",
       "      <td>0</td>\n",
       "      <td>0</td>\n",
       "      <td>0</td>\n",
       "      <td>0</td>\n",
       "      <td>0</td>\n",
       "      <td>0</td>\n",
       "      <td>0</td>\n",
       "      <td>0</td>\n",
       "      <td>0</td>\n",
       "      <td>0</td>\n",
       "      <td>...</td>\n",
       "      <td>0</td>\n",
       "      <td>0</td>\n",
       "      <td>0</td>\n",
       "      <td>1</td>\n",
       "      <td>0</td>\n",
       "      <td>0</td>\n",
       "      <td>0</td>\n",
       "      <td>0</td>\n",
       "      <td>0</td>\n",
       "      <td>0</td>\n",
       "    </tr>\n",
       "    <tr>\n",
       "      <th>4</th>\n",
       "      <td>0</td>\n",
       "      <td>0</td>\n",
       "      <td>0</td>\n",
       "      <td>0</td>\n",
       "      <td>0</td>\n",
       "      <td>0</td>\n",
       "      <td>0</td>\n",
       "      <td>0</td>\n",
       "      <td>0</td>\n",
       "      <td>0</td>\n",
       "      <td>...</td>\n",
       "      <td>0</td>\n",
       "      <td>0</td>\n",
       "      <td>0</td>\n",
       "      <td>0</td>\n",
       "      <td>0</td>\n",
       "      <td>0</td>\n",
       "      <td>0</td>\n",
       "      <td>0</td>\n",
       "      <td>0</td>\n",
       "      <td>0</td>\n",
       "    </tr>\n",
       "  </tbody>\n",
       "</table>\n",
       "<p>5 rows × 459 columns</p>\n",
       "</div>"
      ],
      "text/plain": [
       "   open  sinc  bore  safe  egg  portion  burn  crack  realli  overal  ...  \\\n",
       "0     0     0     0     0    0        0     0      0       0       0  ...   \n",
       "1     0     0     0     0    0        0     0      0       0       0  ...   \n",
       "2     0     0     0     0    0        0     0      0       0       0  ...   \n",
       "3     0     0     0     0    0        0     0      0       0       0  ...   \n",
       "4     0     0     0     0    0        0     0      0       0       0  ...   \n",
       "\n",
       "   seat  regret  nice  great  must  definit  mexican  stop  drag  appeal  \n",
       "0     0       0     0      0     0        0        0     0     0       0  \n",
       "1     0       0     1      1     0        0        0     0     0       0  \n",
       "2     0       0     0      3     0        0        0     0     0       0  \n",
       "3     0       0     0      1     0        0        0     0     0       0  \n",
       "4     0       0     0      0     0        0        0     0     0       0  \n",
       "\n",
       "[5 rows x 459 columns]"
      ]
     },
     "execution_count": 130,
     "metadata": {},
     "output_type": "execute_result"
    }
   ],
   "source": [
    "BOW_df_test = BOW_df_test[bow_dic]\n",
    "BOW_df_test.head()"
   ]
  },
  {
   "cell_type": "code",
   "execution_count": 131,
   "id": "ffd5f912",
   "metadata": {},
   "outputs": [],
   "source": [
    "BOW_df_test.index = X_test.index"
   ]
  },
  {
   "cell_type": "code",
   "execution_count": 132,
   "id": "f553bd2b",
   "metadata": {},
   "outputs": [],
   "source": [
    "X_test_clean = pd.concat([X_test, BOW_df_test], axis=1)\n",
    "X_test_clean = X_test_clean.drop('Review',axis = 1)"
   ]
  },
  {
   "cell_type": "code",
   "execution_count": 133,
   "id": "68387428",
   "metadata": {},
   "outputs": [
    {
     "data": {
      "text/html": [
       "<div>\n",
       "<style scoped>\n",
       "    .dataframe tbody tr th:only-of-type {\n",
       "        vertical-align: middle;\n",
       "    }\n",
       "\n",
       "    .dataframe tbody tr th {\n",
       "        vertical-align: top;\n",
       "    }\n",
       "\n",
       "    .dataframe thead th {\n",
       "        text-align: right;\n",
       "    }\n",
       "</style>\n",
       "<table border=\"1\" class=\"dataframe\">\n",
       "  <thead>\n",
       "    <tr style=\"text-align: right;\">\n",
       "      <th></th>\n",
       "      <th>Useful</th>\n",
       "      <th>Cool</th>\n",
       "      <th>Funny</th>\n",
       "      <th>Bus_Ave_Star</th>\n",
       "      <th>User_Review_count</th>\n",
       "      <th>User_Useful_count</th>\n",
       "      <th>User_Funny_count</th>\n",
       "      <th>User_Cool_count</th>\n",
       "      <th>User_Fans</th>\n",
       "      <th>Users_Ave_Star</th>\n",
       "      <th>...</th>\n",
       "      <th>seat</th>\n",
       "      <th>regret</th>\n",
       "      <th>nice</th>\n",
       "      <th>great</th>\n",
       "      <th>must</th>\n",
       "      <th>definit</th>\n",
       "      <th>mexican</th>\n",
       "      <th>stop</th>\n",
       "      <th>drag</th>\n",
       "      <th>appeal</th>\n",
       "    </tr>\n",
       "  </thead>\n",
       "  <tbody>\n",
       "    <tr>\n",
       "      <th>21470</th>\n",
       "      <td>0</td>\n",
       "      <td>1</td>\n",
       "      <td>1</td>\n",
       "      <td>4.0</td>\n",
       "      <td>440</td>\n",
       "      <td>1109</td>\n",
       "      <td>885</td>\n",
       "      <td>1030</td>\n",
       "      <td>41</td>\n",
       "      <td>3.99</td>\n",
       "      <td>...</td>\n",
       "      <td>0</td>\n",
       "      <td>0</td>\n",
       "      <td>0</td>\n",
       "      <td>0</td>\n",
       "      <td>0</td>\n",
       "      <td>0</td>\n",
       "      <td>0</td>\n",
       "      <td>0</td>\n",
       "      <td>0</td>\n",
       "      <td>0</td>\n",
       "    </tr>\n",
       "    <tr>\n",
       "      <th>34181</th>\n",
       "      <td>1</td>\n",
       "      <td>0</td>\n",
       "      <td>0</td>\n",
       "      <td>4.0</td>\n",
       "      <td>377</td>\n",
       "      <td>521</td>\n",
       "      <td>219</td>\n",
       "      <td>272</td>\n",
       "      <td>16</td>\n",
       "      <td>4.22</td>\n",
       "      <td>...</td>\n",
       "      <td>0</td>\n",
       "      <td>0</td>\n",
       "      <td>1</td>\n",
       "      <td>1</td>\n",
       "      <td>0</td>\n",
       "      <td>0</td>\n",
       "      <td>0</td>\n",
       "      <td>0</td>\n",
       "      <td>0</td>\n",
       "      <td>0</td>\n",
       "    </tr>\n",
       "    <tr>\n",
       "      <th>37368</th>\n",
       "      <td>0</td>\n",
       "      <td>0</td>\n",
       "      <td>0</td>\n",
       "      <td>2.5</td>\n",
       "      <td>326</td>\n",
       "      <td>374</td>\n",
       "      <td>116</td>\n",
       "      <td>165</td>\n",
       "      <td>19</td>\n",
       "      <td>4.08</td>\n",
       "      <td>...</td>\n",
       "      <td>0</td>\n",
       "      <td>0</td>\n",
       "      <td>0</td>\n",
       "      <td>3</td>\n",
       "      <td>0</td>\n",
       "      <td>0</td>\n",
       "      <td>0</td>\n",
       "      <td>0</td>\n",
       "      <td>0</td>\n",
       "      <td>0</td>\n",
       "    </tr>\n",
       "    <tr>\n",
       "      <th>40228</th>\n",
       "      <td>2</td>\n",
       "      <td>1</td>\n",
       "      <td>1</td>\n",
       "      <td>4.0</td>\n",
       "      <td>325</td>\n",
       "      <td>725</td>\n",
       "      <td>87</td>\n",
       "      <td>145</td>\n",
       "      <td>12</td>\n",
       "      <td>4.46</td>\n",
       "      <td>...</td>\n",
       "      <td>0</td>\n",
       "      <td>0</td>\n",
       "      <td>0</td>\n",
       "      <td>1</td>\n",
       "      <td>0</td>\n",
       "      <td>0</td>\n",
       "      <td>0</td>\n",
       "      <td>0</td>\n",
       "      <td>0</td>\n",
       "      <td>0</td>\n",
       "    </tr>\n",
       "    <tr>\n",
       "      <th>50044</th>\n",
       "      <td>0</td>\n",
       "      <td>0</td>\n",
       "      <td>0</td>\n",
       "      <td>4.0</td>\n",
       "      <td>309</td>\n",
       "      <td>551</td>\n",
       "      <td>238</td>\n",
       "      <td>262</td>\n",
       "      <td>24</td>\n",
       "      <td>3.69</td>\n",
       "      <td>...</td>\n",
       "      <td>0</td>\n",
       "      <td>0</td>\n",
       "      <td>0</td>\n",
       "      <td>0</td>\n",
       "      <td>0</td>\n",
       "      <td>0</td>\n",
       "      <td>0</td>\n",
       "      <td>0</td>\n",
       "      <td>0</td>\n",
       "      <td>0</td>\n",
       "    </tr>\n",
       "  </tbody>\n",
       "</table>\n",
       "<p>5 rows × 469 columns</p>\n",
       "</div>"
      ],
      "text/plain": [
       "       Useful  Cool  Funny  Bus_Ave_Star  User_Review_count  \\\n",
       "21470       0     1      1           4.0                440   \n",
       "34181       1     0      0           4.0                377   \n",
       "37368       0     0      0           2.5                326   \n",
       "40228       2     1      1           4.0                325   \n",
       "50044       0     0      0           4.0                309   \n",
       "\n",
       "       User_Useful_count  User_Funny_count  User_Cool_count  User_Fans  \\\n",
       "21470               1109               885             1030         41   \n",
       "34181                521               219              272         16   \n",
       "37368                374               116              165         19   \n",
       "40228                725                87              145         12   \n",
       "50044                551               238              262         24   \n",
       "\n",
       "       Users_Ave_Star  ...  seat  regret  nice  great  must  definit  mexican  \\\n",
       "21470            3.99  ...     0       0     0      0     0        0        0   \n",
       "34181            4.22  ...     0       0     1      1     0        0        0   \n",
       "37368            4.08  ...     0       0     0      3     0        0        0   \n",
       "40228            4.46  ...     0       0     0      1     0        0        0   \n",
       "50044            3.69  ...     0       0     0      0     0        0        0   \n",
       "\n",
       "       stop  drag  appeal  \n",
       "21470     0     0       0  \n",
       "34181     0     0       0  \n",
       "37368     0     0       0  \n",
       "40228     0     0       0  \n",
       "50044     0     0       0  \n",
       "\n",
       "[5 rows x 469 columns]"
      ]
     },
     "execution_count": 133,
     "metadata": {},
     "output_type": "execute_result"
    }
   ],
   "source": [
    "X_test_clean.head()"
   ]
  },
  {
   "cell_type": "code",
   "execution_count": 134,
   "id": "c267385f",
   "metadata": {},
   "outputs": [
    {
     "data": {
      "text/plain": [
       "21470    4.0\n",
       "34181    5.0\n",
       "37368    4.0\n",
       "40228    5.0\n",
       "50044    4.0\n",
       "        ... \n",
       "43292    5.0\n",
       "53587    3.0\n",
       "1460     5.0\n",
       "51256    1.0\n",
       "2788     5.0\n",
       "Name: Star, Length: 10769, dtype: float64"
      ]
     },
     "execution_count": 134,
     "metadata": {},
     "output_type": "execute_result"
    }
   ],
   "source": [
    "Y_test"
   ]
  },
  {
   "cell_type": "markdown",
   "id": "93d1a322",
   "metadata": {},
   "source": [
    "### Train Logistice Regression\n",
    "\n",
    "hyperparameters that we want to tune for LG:\n",
    "    - "
   ]
  },
  {
   "cell_type": "code",
   "execution_count": 170,
   "id": "dd67e533",
   "metadata": {},
   "outputs": [],
   "source": [
    "X_train_LG = X_train_clean[lasso_selected]\n",
    "X_test_LG = X_test_clean[lasso_selected]"
   ]
  },
  {
   "cell_type": "code",
   "execution_count": 171,
   "id": "8c3e0596",
   "metadata": {},
   "outputs": [
    {
     "data": {
      "text/plain": [
       "(0.5474045872411551, 0.5965270684371808)"
      ]
     },
     "execution_count": 171,
     "metadata": {},
     "output_type": "execute_result"
    }
   ],
   "source": [
    "LG = LogisticRegression(solver='liblinear',C=1.0, random_state=0).fit(X_train_LG,Y_train)\n",
    "LG.score(X_test_LG,Y_test), LG.score(X_train_LG,Y_train)"
   ]
  },
  {
   "cell_type": "code",
   "execution_count": 172,
   "id": "556dcaa0",
   "metadata": {},
   "outputs": [
    {
     "data": {
      "text/plain": [
       "array([[ 134,   51,   62,   88,   44],\n",
       "       [  60,   82,  185,  278,   87],\n",
       "       [  38,   63,  398,  903,  287],\n",
       "       [  13,   17,  176, 2023, 1502],\n",
       "       [  18,    9,   33,  960, 3258]])"
      ]
     },
     "execution_count": 172,
     "metadata": {},
     "output_type": "execute_result"
    }
   ],
   "source": [
    "from sklearn.metrics import confusion_matrix\n",
    "confusion_matrix(Y_test, LG.predict(X_test_LG))"
   ]
  },
  {
   "cell_type": "markdown",
   "id": "10bb41a9",
   "metadata": {},
   "source": [
    "### Train RF\n",
    "hyperparameters that we want to tune for RF: \n",
    "   - n_estimators\n",
    "   - max_features\n",
    "   - max_depth\n",
    "   - min_samples_split\n",
    "   - min_samples_leaf\n",
    "\n",
    "Thus, we **first use random search cross validation** to to narrow our search is to evaluate a wide range of values for each hyperparameter. Using Scikit-Learn’s RandomizedSearchCV method, we can define a grid of hyperparameter ranges, and randomly sample from the grid, performing K-Fold CV with each combination of values.\n",
    "\n",
    "Then, we use **Grid search cross validation**"
   ]
  },
  {
   "cell_type": "markdown",
   "id": "b4113476",
   "metadata": {},
   "source": [
    "#### Train RF with all features"
   ]
  },
  {
   "cell_type": "code",
   "execution_count": 467,
   "id": "3c609cd1",
   "metadata": {},
   "outputs": [
    {
     "data": {
      "text/plain": [
       "[10, 42, 74, 106, 138, 170, 202, 234, 266, 298, 330]"
      ]
     },
     "execution_count": 467,
     "metadata": {},
     "output_type": "execute_result"
    }
   ],
   "source": [
    "[int(x) for x in np.linspace(10, 330, num = 11)]"
   ]
  },
  {
   "cell_type": "code",
   "execution_count": 173,
   "id": "39d8b5be",
   "metadata": {},
   "outputs": [
    {
     "name": "stdout",
     "output_type": "stream",
     "text": [
      "{'n_estimators': [50, 100, 150], 'max_features': ['sqrt', 'log2'], 'max_depth': [5, 15, None], 'min_samples_split': [2, 5], 'min_samples_leaf': [4, 6]}\n"
     ]
    }
   ],
   "source": [
    "from sklearn.model_selection import RandomizedSearchCV\n",
    "# Number of trees in random forest\n",
    "n_estimators = [int(x) for x in np.linspace(start = 50, stop = 150, num = 3)]\n",
    "# Number of features to consider at every split\n",
    "max_features = ['sqrt','log2']\n",
    "# Maximum number of levels in tree\n",
    "max_depth = [5,15]\n",
    "max_depth.append(None)\n",
    "# Minimum number of samples required to split a node\n",
    "min_samples_split = [2,5]\n",
    "# Minimum number of samples required at each leaf node\n",
    "min_samples_leaf = [4,6]\n",
    "# Create the random grid\n",
    "random_grid = {'n_estimators': n_estimators,\n",
    "               'max_features': max_features,\n",
    "               'max_depth': max_depth,\n",
    "               'min_samples_split': min_samples_split,\n",
    "               'min_samples_leaf': min_samples_leaf,}\n",
    "print(random_grid)"
   ]
  },
  {
   "cell_type": "markdown",
   "id": "281891d4",
   "metadata": {},
   "source": [
    "We try to run the whole dataset and features in in the matric but it is too slow so we think it would be a better idea to do select the features and estimate the parameters first "
   ]
  },
  {
   "cell_type": "code",
   "execution_count": 174,
   "id": "b610d90f",
   "metadata": {},
   "outputs": [
    {
     "name": "stdout",
     "output_type": "stream",
     "text": [
      "Fitting 3 folds for each of 10 candidates, totalling 30 fits\n"
     ]
    },
    {
     "data": {
      "text/plain": [
       "RandomizedSearchCV(cv=3, estimator=RandomForestClassifier(), n_jobs=-1,\n",
       "                   param_distributions={'max_depth': [5, 15, None],\n",
       "                                        'max_features': ['sqrt', 'log2'],\n",
       "                                        'min_samples_leaf': [4, 6],\n",
       "                                        'min_samples_split': [2, 5],\n",
       "                                        'n_estimators': [50, 100, 150]},\n",
       "                   random_state=42, verbose=2)"
      ]
     },
     "execution_count": 174,
     "metadata": {},
     "output_type": "execute_result"
    }
   ],
   "source": [
    "# Use the random grid to search for best hyperparameters\n",
    "# First create the base model to tune\n",
    "rf = RandomForestClassifier()\n",
    "# Random search of parameters, using 3 fold cross validation, \n",
    "# search across 100 different combinations, and use all available cores\n",
    "rf_random = RandomizedSearchCV(estimator = rf, param_distributions = random_grid, n_iter = 10, cv = 3, verbose=2, random_state=42, n_jobs = -1)\n",
    "# Fit the random search model\n",
    "rf_random.fit(X_train_clean[tree_selected], Y_train)"
   ]
  },
  {
   "cell_type": "code",
   "execution_count": 175,
   "id": "7358a6ed",
   "metadata": {},
   "outputs": [
    {
     "data": {
      "text/plain": [
       "{'n_estimators': 150,\n",
       " 'min_samples_split': 2,\n",
       " 'min_samples_leaf': 4,\n",
       " 'max_features': 'log2',\n",
       " 'max_depth': None}"
      ]
     },
     "execution_count": 175,
     "metadata": {},
     "output_type": "execute_result"
    },
    {
     "name": "stdout",
     "output_type": "stream",
     "text": [
      "[CV] END max_depth=None, max_features=log2, min_samples_leaf=4, min_samples_split=2, n_estimators=150; total time=  13.7s\n",
      "[CV] END max_depth=15, max_features=sqrt, min_samples_leaf=4, min_samples_split=5, n_estimators=100; total time=   7.6s\n",
      "[CV] END max_depth=None, max_features=sqrt, min_samples_leaf=4, min_samples_split=2, n_estimators=150; total time=  14.0s\n",
      "[CV] END max_depth=15, max_features=sqrt, min_samples_leaf=6, min_samples_split=5, n_estimators=100; total time=   7.3s\n",
      "[CV] END max_depth=5, max_features=sqrt, min_samples_leaf=4, min_samples_split=5, n_estimators=100; total time=   3.3s\n",
      "[CV] END max_depth=5, max_features=log2, min_samples_leaf=6, min_samples_split=2, n_estimators=50; total time=   1.4s\n",
      "[CV] END max_depth=5, max_features=log2, min_samples_leaf=6, min_samples_split=2, n_estimators=50; total time=   1.7s\n",
      "[CV] END max_depth=5, max_features=log2, min_samples_leaf=6, min_samples_split=2, n_estimators=50; total time=   1.8s\n",
      "[CV] END max_depth=5, max_features=sqrt, min_samples_leaf=4, min_samples_split=2, n_estimators=50; total time=   2.2s\n",
      "[CV] END max_depth=5, max_features=sqrt, min_samples_leaf=4, min_samples_split=2, n_estimators=50; total time=   1.9s\n",
      "[CV] END max_depth=5, max_features=sqrt, min_samples_leaf=4, min_samples_split=2, n_estimators=50; total time=   1.6s\n",
      "[CV] END max_depth=15, max_features=sqrt, min_samples_leaf=4, min_samples_split=5, n_estimators=100; total time=   7.7s\n",
      "[CV] END max_depth=None, max_features=sqrt, min_samples_leaf=4, min_samples_split=2, n_estimators=150; total time=  14.0s\n",
      "[CV] END max_depth=5, max_features=log2, min_samples_leaf=4, min_samples_split=2, n_estimators=50; total time=   1.4s\n",
      "[CV] END max_depth=5, max_features=log2, min_samples_leaf=4, min_samples_split=2, n_estimators=50; total time=   1.4s\n",
      "[CV] END max_depth=None, max_features=sqrt, min_samples_leaf=6, min_samples_split=2, n_estimators=50; total time=   4.2s\n",
      "[CV] END max_depth=5, max_features=sqrt, min_samples_leaf=4, min_samples_split=5, n_estimators=100; total time=   3.3s\n",
      "[CV] END max_depth=None, max_features=log2, min_samples_leaf=4, min_samples_split=2, n_estimators=150; total time=  13.6s\n",
      "[CV] END max_depth=None, max_features=sqrt, min_samples_leaf=4, min_samples_split=2, n_estimators=150; total time=  14.1s\n",
      "[CV] END max_depth=15, max_features=sqrt, min_samples_leaf=6, min_samples_split=5, n_estimators=100; total time=   7.3s\n",
      "[CV] END max_depth=5, max_features=log2, min_samples_leaf=4, min_samples_split=2, n_estimators=50; total time=   1.4s\n",
      "[CV] END max_depth=None, max_features=sqrt, min_samples_leaf=6, min_samples_split=2, n_estimators=50; total time=   4.0s\n",
      "[CV] END max_depth=5, max_features=sqrt, min_samples_leaf=4, min_samples_split=5, n_estimators=100; total time=   3.3s\n",
      "[CV] END max_depth=None, max_features=log2, min_samples_leaf=4, min_samples_split=2, n_estimators=150; total time=  13.4s\n",
      "[CV] END max_depth=15, max_features=sqrt, min_samples_leaf=4, min_samples_split=5, n_estimators=100; total time=   7.7s\n",
      "[CV] END max_depth=5, max_features=sqrt, min_samples_leaf=6, min_samples_split=5, n_estimators=100; total time=   3.2s\n",
      "[CV] END max_depth=5, max_features=sqrt, min_samples_leaf=6, min_samples_split=5, n_estimators=100; total time=   3.2s\n",
      "[CV] END max_depth=5, max_features=sqrt, min_samples_leaf=6, min_samples_split=5, n_estimators=100; total time=   3.2s\n",
      "[CV] END max_depth=15, max_features=sqrt, min_samples_leaf=6, min_samples_split=5, n_estimators=100; total time=   7.3s\n",
      "[CV] END max_depth=None, max_features=sqrt, min_samples_leaf=6, min_samples_split=2, n_estimators=50; total time=   3.2s\n"
     ]
    }
   ],
   "source": [
    "rf_random.best_params_"
   ]
  },
  {
   "cell_type": "code",
   "execution_count": 176,
   "id": "1cc944b1",
   "metadata": {},
   "outputs": [
    {
     "data": {
      "text/plain": [
       "RandomForestClassifier(max_features='log2', min_samples_leaf=4,\n",
       "                       n_estimators=150)"
      ]
     },
     "execution_count": 176,
     "metadata": {},
     "output_type": "execute_result"
    }
   ],
   "source": [
    "rf_optimal = RandomForestClassifier(n_estimators= 150, min_samples_split =  2, \n",
    "                                    min_samples_leaf= 4,max_features= 'log2',max_depth= None)\n",
    "rf_optimal.fit(X_train_clean[tree_selected],Y_train)"
   ]
  },
  {
   "cell_type": "code",
   "execution_count": 177,
   "id": "5e7f8051",
   "metadata": {},
   "outputs": [
    {
     "data": {
      "text/plain": [
       "0.8104977249512489"
      ]
     },
     "execution_count": 177,
     "metadata": {},
     "output_type": "execute_result"
    }
   ],
   "source": [
    "rf_optimal.score(X_train_clean[three_selected],Y_train)"
   ]
  },
  {
   "cell_type": "code",
   "execution_count": 178,
   "id": "bf86cc70",
   "metadata": {},
   "outputs": [
    {
     "data": {
      "text/plain": [
       "0.5249326771287957"
      ]
     },
     "execution_count": 178,
     "metadata": {},
     "output_type": "execute_result"
    }
   ],
   "source": [
    "rf_optimal.score(X_test_clean[tree_selected],Y_test)"
   ]
  },
  {
   "cell_type": "markdown",
   "id": "99a40536",
   "metadata": {},
   "source": [
    "### RF pick thredshold (ROC curve)"
   ]
  },
  {
   "cell_type": "code",
   "execution_count": 179,
   "id": "62647ff6",
   "metadata": {},
   "outputs": [
    {
     "data": {
      "text/html": [
       "<div>\n",
       "<style scoped>\n",
       "    .dataframe tbody tr th:only-of-type {\n",
       "        vertical-align: middle;\n",
       "    }\n",
       "\n",
       "    .dataframe tbody tr th {\n",
       "        vertical-align: top;\n",
       "    }\n",
       "\n",
       "    .dataframe thead th {\n",
       "        text-align: right;\n",
       "    }\n",
       "</style>\n",
       "<table border=\"1\" class=\"dataframe\">\n",
       "  <thead>\n",
       "    <tr style=\"text-align: right;\">\n",
       "      <th></th>\n",
       "      <th>Useful</th>\n",
       "      <th>Cool</th>\n",
       "      <th>Funny</th>\n",
       "      <th>Review</th>\n",
       "      <th>Bus_Ave_Star</th>\n",
       "      <th>User_Review_count</th>\n",
       "      <th>User_Useful_count</th>\n",
       "      <th>User_Funny_count</th>\n",
       "      <th>User_Cool_count</th>\n",
       "      <th>User_Fans</th>\n",
       "      <th>Users_Ave_Star</th>\n",
       "    </tr>\n",
       "  </thead>\n",
       "  <tbody>\n",
       "    <tr>\n",
       "      <th>8508</th>\n",
       "      <td>5</td>\n",
       "      <td>2</td>\n",
       "      <td>1</td>\n",
       "      <td>real reason give place star passion fruit cock...</td>\n",
       "      <td>4.0</td>\n",
       "      <td>2100</td>\n",
       "      <td>5196</td>\n",
       "      <td>1852</td>\n",
       "      <td>3079</td>\n",
       "      <td>200</td>\n",
       "      <td>4.08</td>\n",
       "    </tr>\n",
       "    <tr>\n",
       "      <th>21610</th>\n",
       "      <td>0</td>\n",
       "      <td>0</td>\n",
       "      <td>0</td>\n",
       "      <td>glad place goleta grab quick good seafood favo...</td>\n",
       "      <td>4.0</td>\n",
       "      <td>195</td>\n",
       "      <td>208</td>\n",
       "      <td>50</td>\n",
       "      <td>70</td>\n",
       "      <td>7</td>\n",
       "      <td>4.05</td>\n",
       "    </tr>\n",
       "    <tr>\n",
       "      <th>9895</th>\n",
       "      <td>2</td>\n",
       "      <td>0</td>\n",
       "      <td>0</td>\n",
       "      <td>think come back no neck tattoo polici bf clean...</td>\n",
       "      <td>3.5</td>\n",
       "      <td>293</td>\n",
       "      <td>556</td>\n",
       "      <td>134</td>\n",
       "      <td>277</td>\n",
       "      <td>29</td>\n",
       "      <td>4.32</td>\n",
       "    </tr>\n",
       "    <tr>\n",
       "      <th>20283</th>\n",
       "      <td>0</td>\n",
       "      <td>1</td>\n",
       "      <td>0</td>\n",
       "      <td>friend india still love place take good sign o...</td>\n",
       "      <td>4.5</td>\n",
       "      <td>1036</td>\n",
       "      <td>2667</td>\n",
       "      <td>1609</td>\n",
       "      <td>2075</td>\n",
       "      <td>105</td>\n",
       "      <td>4.01</td>\n",
       "    </tr>\n",
       "    <tr>\n",
       "      <th>936</th>\n",
       "      <td>1</td>\n",
       "      <td>1</td>\n",
       "      <td>2</td>\n",
       "      <td>love sun tue amaz cheap burger special take ad...</td>\n",
       "      <td>4.0</td>\n",
       "      <td>217</td>\n",
       "      <td>665</td>\n",
       "      <td>353</td>\n",
       "      <td>352</td>\n",
       "      <td>56</td>\n",
       "      <td>3.71</td>\n",
       "    </tr>\n",
       "    <tr>\n",
       "      <th>...</th>\n",
       "      <td>...</td>\n",
       "      <td>...</td>\n",
       "      <td>...</td>\n",
       "      <td>...</td>\n",
       "      <td>...</td>\n",
       "      <td>...</td>\n",
       "      <td>...</td>\n",
       "      <td>...</td>\n",
       "      <td>...</td>\n",
       "      <td>...</td>\n",
       "      <td>...</td>\n",
       "    </tr>\n",
       "    <tr>\n",
       "      <th>8887</th>\n",
       "      <td>0</td>\n",
       "      <td>0</td>\n",
       "      <td>0</td>\n",
       "      <td>perfectli adequ nail salon not mani thrill wou...</td>\n",
       "      <td>3.5</td>\n",
       "      <td>231</td>\n",
       "      <td>169</td>\n",
       "      <td>34</td>\n",
       "      <td>22</td>\n",
       "      <td>1</td>\n",
       "      <td>3.47</td>\n",
       "    </tr>\n",
       "    <tr>\n",
       "      <th>18716</th>\n",
       "      <td>0</td>\n",
       "      <td>0</td>\n",
       "      <td>0</td>\n",
       "      <td>group us came sundai brunch surprisingli seat ...</td>\n",
       "      <td>4.0</td>\n",
       "      <td>443</td>\n",
       "      <td>492</td>\n",
       "      <td>281</td>\n",
       "      <td>225</td>\n",
       "      <td>27</td>\n",
       "      <td>3.81</td>\n",
       "    </tr>\n",
       "    <tr>\n",
       "      <th>28554</th>\n",
       "      <td>0</td>\n",
       "      <td>0</td>\n",
       "      <td>0</td>\n",
       "      <td>food pretti tasti past morn order scrambl egg ...</td>\n",
       "      <td>4.0</td>\n",
       "      <td>1535</td>\n",
       "      <td>1889</td>\n",
       "      <td>824</td>\n",
       "      <td>1912</td>\n",
       "      <td>23</td>\n",
       "      <td>3.85</td>\n",
       "    </tr>\n",
       "    <tr>\n",
       "      <th>18007</th>\n",
       "      <td>0</td>\n",
       "      <td>0</td>\n",
       "      <td>0</td>\n",
       "      <td>give place cute littl place opt go beat crowde...</td>\n",
       "      <td>4.0</td>\n",
       "      <td>404</td>\n",
       "      <td>430</td>\n",
       "      <td>99</td>\n",
       "      <td>193</td>\n",
       "      <td>23</td>\n",
       "      <td>3.80</td>\n",
       "    </tr>\n",
       "    <tr>\n",
       "      <th>17116</th>\n",
       "      <td>12</td>\n",
       "      <td>11</td>\n",
       "      <td>12</td>\n",
       "      <td>sh check price packag deal bf book night stai ...</td>\n",
       "      <td>4.5</td>\n",
       "      <td>631</td>\n",
       "      <td>3754</td>\n",
       "      <td>3685</td>\n",
       "      <td>3382</td>\n",
       "      <td>122</td>\n",
       "      <td>3.65</td>\n",
       "    </tr>\n",
       "  </tbody>\n",
       "</table>\n",
       "<p>43076 rows × 11 columns</p>\n",
       "</div>"
      ],
      "text/plain": [
       "       Useful  Cool  Funny                                             Review  \\\n",
       "8508        5     2      1  real reason give place star passion fruit cock...   \n",
       "21610       0     0      0  glad place goleta grab quick good seafood favo...   \n",
       "9895        2     0      0  think come back no neck tattoo polici bf clean...   \n",
       "20283       0     1      0  friend india still love place take good sign o...   \n",
       "936         1     1      2  love sun tue amaz cheap burger special take ad...   \n",
       "...       ...   ...    ...                                                ...   \n",
       "8887        0     0      0  perfectli adequ nail salon not mani thrill wou...   \n",
       "18716       0     0      0  group us came sundai brunch surprisingli seat ...   \n",
       "28554       0     0      0  food pretti tasti past morn order scrambl egg ...   \n",
       "18007       0     0      0  give place cute littl place opt go beat crowde...   \n",
       "17116      12    11     12  sh check price packag deal bf book night stai ...   \n",
       "\n",
       "       Bus_Ave_Star  User_Review_count  User_Useful_count  User_Funny_count  \\\n",
       "8508            4.0               2100               5196              1852   \n",
       "21610           4.0                195                208                50   \n",
       "9895            3.5                293                556               134   \n",
       "20283           4.5               1036               2667              1609   \n",
       "936             4.0                217                665               353   \n",
       "...             ...                ...                ...               ...   \n",
       "8887            3.5                231                169                34   \n",
       "18716           4.0                443                492               281   \n",
       "28554           4.0               1535               1889               824   \n",
       "18007           4.0                404                430                99   \n",
       "17116           4.5                631               3754              3685   \n",
       "\n",
       "       User_Cool_count  User_Fans  Users_Ave_Star  \n",
       "8508              3079        200            4.08  \n",
       "21610               70          7            4.05  \n",
       "9895               277         29            4.32  \n",
       "20283             2075        105            4.01  \n",
       "936                352         56            3.71  \n",
       "...                ...        ...             ...  \n",
       "8887                22          1            3.47  \n",
       "18716              225         27            3.81  \n",
       "28554             1912         23            3.85  \n",
       "18007              193         23            3.80  \n",
       "17116             3382        122            3.65  \n",
       "\n",
       "[43076 rows x 11 columns]"
      ]
     },
     "execution_count": 179,
     "metadata": {},
     "output_type": "execute_result"
    }
   ],
   "source": [
    "X_train"
   ]
  },
  {
   "cell_type": "code",
   "execution_count": null,
   "id": "4224ee81",
   "metadata": {},
   "outputs": [],
   "source": []
  }
 ],
 "metadata": {
  "kernelspec": {
   "display_name": "Python 3 (ipykernel)",
   "language": "python",
   "name": "python3"
  },
  "language_info": {
   "codemirror_mode": {
    "name": "ipython",
    "version": 3
   },
   "file_extension": ".py",
   "mimetype": "text/x-python",
   "name": "python",
   "nbconvert_exporter": "python",
   "pygments_lexer": "ipython3",
   "version": "3.9.7"
  }
 },
 "nbformat": 4,
 "nbformat_minor": 5
}
